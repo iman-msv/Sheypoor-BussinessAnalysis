{
  "nbformat": 4,
  "nbformat_minor": 0,
  "metadata": {
    "colab": {
      "provenance": []
    },
    "kernelspec": {
      "name": "python3",
      "display_name": "Python 3"
    },
    "language_info": {
      "name": "python"
    }
  },
  "cells": [
    {
      "cell_type": "code",
      "execution_count": 25,
      "metadata": {
        "id": "SMwCBDNXuVFu"
      },
      "outputs": [],
      "source": [
        "import pandas as pd\n",
        "import numpy as np\n",
        "import matplotlib.pyplot as plt\n",
        "import seaborn as sns"
      ]
    },
    {
      "cell_type": "code",
      "source": [
        "contracts = pd.read_excel('Data contracts.xlsx')"
      ],
      "metadata": {
        "id": "QyWHc4ptupqF"
      },
      "execution_count": 26,
      "outputs": []
    },
    {
      "cell_type": "markdown",
      "source": [
        "# Exploring Data\n",
        "First, let's take a look a the head of data:"
      ],
      "metadata": {
        "id": "-rQc3QvOutCK"
      }
    },
    {
      "cell_type": "code",
      "source": [
        "contracts.head()"
      ],
      "metadata": {
        "colab": {
          "base_uri": "https://localhost:8080/",
          "height": 206
        },
        "id": "BCqdNEpdurSi",
        "outputId": "b549ff5c-6d6e-41ea-9e58-ab8892b7f33d"
      },
      "execution_count": 27,
      "outputs": [
        {
          "output_type": "execute_result",
          "data": {
            "text/plain": [
              "   shop_id  package_order_id package_name contract_date  start_date  \\\n",
              "0    35120             57868        Car C    2021-08-22  2021-09-06   \n",
              "1    73135             55723        Car B    2021-06-08  2021-06-08   \n",
              "2    28746             49014        Car C    2021-01-16  2021-01-16   \n",
              "3    76180             63743        Car C    2022-08-09         NaN   \n",
              "4    63157             46291        Car B    2020-11-23  2020-11-23   \n",
              "\n",
              "     end_date real_end_date  Listing_limit industry category          region  \\\n",
              "0  2022-10-06           NaT             80  re_auto    خودرو           تهران   \n",
              "1  2022-07-15           NaT             50  re_auto    خودرو           تهران   \n",
              "2  2021-05-17           NaT            500  re_auto    خودرو            فارس   \n",
              "3  2023-02-08           NaT             10  re_auto    خودرو  آذربایجان شرقی   \n",
              "4  2021-03-23           NaT             10  re_auto    خودرو              قم   \n",
              "\n",
              "    city  \n",
              "0  تهران  \n",
              "1  تهران  \n",
              "2  شیراز  \n",
              "3  مراغه  \n",
              "4     قم  "
            ],
            "text/html": [
              "\n",
              "  <div id=\"df-c6a2f498-db5d-42ec-a2e0-96fad9b95de0\" class=\"colab-df-container\">\n",
              "    <div>\n",
              "<style scoped>\n",
              "    .dataframe tbody tr th:only-of-type {\n",
              "        vertical-align: middle;\n",
              "    }\n",
              "\n",
              "    .dataframe tbody tr th {\n",
              "        vertical-align: top;\n",
              "    }\n",
              "\n",
              "    .dataframe thead th {\n",
              "        text-align: right;\n",
              "    }\n",
              "</style>\n",
              "<table border=\"1\" class=\"dataframe\">\n",
              "  <thead>\n",
              "    <tr style=\"text-align: right;\">\n",
              "      <th></th>\n",
              "      <th>shop_id</th>\n",
              "      <th>package_order_id</th>\n",
              "      <th>package_name</th>\n",
              "      <th>contract_date</th>\n",
              "      <th>start_date</th>\n",
              "      <th>end_date</th>\n",
              "      <th>real_end_date</th>\n",
              "      <th>Listing_limit</th>\n",
              "      <th>industry</th>\n",
              "      <th>category</th>\n",
              "      <th>region</th>\n",
              "      <th>city</th>\n",
              "    </tr>\n",
              "  </thead>\n",
              "  <tbody>\n",
              "    <tr>\n",
              "      <th>0</th>\n",
              "      <td>35120</td>\n",
              "      <td>57868</td>\n",
              "      <td>Car C</td>\n",
              "      <td>2021-08-22</td>\n",
              "      <td>2021-09-06</td>\n",
              "      <td>2022-10-06</td>\n",
              "      <td>NaT</td>\n",
              "      <td>80</td>\n",
              "      <td>re_auto</td>\n",
              "      <td>خودرو</td>\n",
              "      <td>تهران</td>\n",
              "      <td>تهران</td>\n",
              "    </tr>\n",
              "    <tr>\n",
              "      <th>1</th>\n",
              "      <td>73135</td>\n",
              "      <td>55723</td>\n",
              "      <td>Car B</td>\n",
              "      <td>2021-06-08</td>\n",
              "      <td>2021-06-08</td>\n",
              "      <td>2022-07-15</td>\n",
              "      <td>NaT</td>\n",
              "      <td>50</td>\n",
              "      <td>re_auto</td>\n",
              "      <td>خودرو</td>\n",
              "      <td>تهران</td>\n",
              "      <td>تهران</td>\n",
              "    </tr>\n",
              "    <tr>\n",
              "      <th>2</th>\n",
              "      <td>28746</td>\n",
              "      <td>49014</td>\n",
              "      <td>Car C</td>\n",
              "      <td>2021-01-16</td>\n",
              "      <td>2021-01-16</td>\n",
              "      <td>2021-05-17</td>\n",
              "      <td>NaT</td>\n",
              "      <td>500</td>\n",
              "      <td>re_auto</td>\n",
              "      <td>خودرو</td>\n",
              "      <td>فارس</td>\n",
              "      <td>شیراز</td>\n",
              "    </tr>\n",
              "    <tr>\n",
              "      <th>3</th>\n",
              "      <td>76180</td>\n",
              "      <td>63743</td>\n",
              "      <td>Car C</td>\n",
              "      <td>2022-08-09</td>\n",
              "      <td>NaN</td>\n",
              "      <td>2023-02-08</td>\n",
              "      <td>NaT</td>\n",
              "      <td>10</td>\n",
              "      <td>re_auto</td>\n",
              "      <td>خودرو</td>\n",
              "      <td>آذربایجان شرقی</td>\n",
              "      <td>مراغه</td>\n",
              "    </tr>\n",
              "    <tr>\n",
              "      <th>4</th>\n",
              "      <td>63157</td>\n",
              "      <td>46291</td>\n",
              "      <td>Car B</td>\n",
              "      <td>2020-11-23</td>\n",
              "      <td>2020-11-23</td>\n",
              "      <td>2021-03-23</td>\n",
              "      <td>NaT</td>\n",
              "      <td>10</td>\n",
              "      <td>re_auto</td>\n",
              "      <td>خودرو</td>\n",
              "      <td>قم</td>\n",
              "      <td>قم</td>\n",
              "    </tr>\n",
              "  </tbody>\n",
              "</table>\n",
              "</div>\n",
              "    <div class=\"colab-df-buttons\">\n",
              "\n",
              "  <div class=\"colab-df-container\">\n",
              "    <button class=\"colab-df-convert\" onclick=\"convertToInteractive('df-c6a2f498-db5d-42ec-a2e0-96fad9b95de0')\"\n",
              "            title=\"Convert this dataframe to an interactive table.\"\n",
              "            style=\"display:none;\">\n",
              "\n",
              "  <svg xmlns=\"http://www.w3.org/2000/svg\" height=\"24px\" viewBox=\"0 -960 960 960\">\n",
              "    <path d=\"M120-120v-720h720v720H120Zm60-500h600v-160H180v160Zm220 220h160v-160H400v160Zm0 220h160v-160H400v160ZM180-400h160v-160H180v160Zm440 0h160v-160H620v160ZM180-180h160v-160H180v160Zm440 0h160v-160H620v160Z\"/>\n",
              "  </svg>\n",
              "    </button>\n",
              "\n",
              "  <style>\n",
              "    .colab-df-container {\n",
              "      display:flex;\n",
              "      gap: 12px;\n",
              "    }\n",
              "\n",
              "    .colab-df-convert {\n",
              "      background-color: #E8F0FE;\n",
              "      border: none;\n",
              "      border-radius: 50%;\n",
              "      cursor: pointer;\n",
              "      display: none;\n",
              "      fill: #1967D2;\n",
              "      height: 32px;\n",
              "      padding: 0 0 0 0;\n",
              "      width: 32px;\n",
              "    }\n",
              "\n",
              "    .colab-df-convert:hover {\n",
              "      background-color: #E2EBFA;\n",
              "      box-shadow: 0px 1px 2px rgba(60, 64, 67, 0.3), 0px 1px 3px 1px rgba(60, 64, 67, 0.15);\n",
              "      fill: #174EA6;\n",
              "    }\n",
              "\n",
              "    .colab-df-buttons div {\n",
              "      margin-bottom: 4px;\n",
              "    }\n",
              "\n",
              "    [theme=dark] .colab-df-convert {\n",
              "      background-color: #3B4455;\n",
              "      fill: #D2E3FC;\n",
              "    }\n",
              "\n",
              "    [theme=dark] .colab-df-convert:hover {\n",
              "      background-color: #434B5C;\n",
              "      box-shadow: 0px 1px 3px 1px rgba(0, 0, 0, 0.15);\n",
              "      filter: drop-shadow(0px 1px 2px rgba(0, 0, 0, 0.3));\n",
              "      fill: #FFFFFF;\n",
              "    }\n",
              "  </style>\n",
              "\n",
              "    <script>\n",
              "      const buttonEl =\n",
              "        document.querySelector('#df-c6a2f498-db5d-42ec-a2e0-96fad9b95de0 button.colab-df-convert');\n",
              "      buttonEl.style.display =\n",
              "        google.colab.kernel.accessAllowed ? 'block' : 'none';\n",
              "\n",
              "      async function convertToInteractive(key) {\n",
              "        const element = document.querySelector('#df-c6a2f498-db5d-42ec-a2e0-96fad9b95de0');\n",
              "        const dataTable =\n",
              "          await google.colab.kernel.invokeFunction('convertToInteractive',\n",
              "                                                    [key], {});\n",
              "        if (!dataTable) return;\n",
              "\n",
              "        const docLinkHtml = 'Like what you see? Visit the ' +\n",
              "          '<a target=\"_blank\" href=https://colab.research.google.com/notebooks/data_table.ipynb>data table notebook</a>'\n",
              "          + ' to learn more about interactive tables.';\n",
              "        element.innerHTML = '';\n",
              "        dataTable['output_type'] = 'display_data';\n",
              "        await google.colab.output.renderOutput(dataTable, element);\n",
              "        const docLink = document.createElement('div');\n",
              "        docLink.innerHTML = docLinkHtml;\n",
              "        element.appendChild(docLink);\n",
              "      }\n",
              "    </script>\n",
              "  </div>\n",
              "\n",
              "\n",
              "<div id=\"df-e3fd9f21-a8f5-4adc-a507-558f24917562\">\n",
              "  <button class=\"colab-df-quickchart\" onclick=\"quickchart('df-e3fd9f21-a8f5-4adc-a507-558f24917562')\"\n",
              "            title=\"Suggest charts.\"\n",
              "            style=\"display:none;\">\n",
              "\n",
              "<svg xmlns=\"http://www.w3.org/2000/svg\" height=\"24px\"viewBox=\"0 0 24 24\"\n",
              "     width=\"24px\">\n",
              "    <g>\n",
              "        <path d=\"M19 3H5c-1.1 0-2 .9-2 2v14c0 1.1.9 2 2 2h14c1.1 0 2-.9 2-2V5c0-1.1-.9-2-2-2zM9 17H7v-7h2v7zm4 0h-2V7h2v10zm4 0h-2v-4h2v4z\"/>\n",
              "    </g>\n",
              "</svg>\n",
              "  </button>\n",
              "\n",
              "<style>\n",
              "  .colab-df-quickchart {\n",
              "      --bg-color: #E8F0FE;\n",
              "      --fill-color: #1967D2;\n",
              "      --hover-bg-color: #E2EBFA;\n",
              "      --hover-fill-color: #174EA6;\n",
              "      --disabled-fill-color: #AAA;\n",
              "      --disabled-bg-color: #DDD;\n",
              "  }\n",
              "\n",
              "  [theme=dark] .colab-df-quickchart {\n",
              "      --bg-color: #3B4455;\n",
              "      --fill-color: #D2E3FC;\n",
              "      --hover-bg-color: #434B5C;\n",
              "      --hover-fill-color: #FFFFFF;\n",
              "      --disabled-bg-color: #3B4455;\n",
              "      --disabled-fill-color: #666;\n",
              "  }\n",
              "\n",
              "  .colab-df-quickchart {\n",
              "    background-color: var(--bg-color);\n",
              "    border: none;\n",
              "    border-radius: 50%;\n",
              "    cursor: pointer;\n",
              "    display: none;\n",
              "    fill: var(--fill-color);\n",
              "    height: 32px;\n",
              "    padding: 0;\n",
              "    width: 32px;\n",
              "  }\n",
              "\n",
              "  .colab-df-quickchart:hover {\n",
              "    background-color: var(--hover-bg-color);\n",
              "    box-shadow: 0 1px 2px rgba(60, 64, 67, 0.3), 0 1px 3px 1px rgba(60, 64, 67, 0.15);\n",
              "    fill: var(--button-hover-fill-color);\n",
              "  }\n",
              "\n",
              "  .colab-df-quickchart-complete:disabled,\n",
              "  .colab-df-quickchart-complete:disabled:hover {\n",
              "    background-color: var(--disabled-bg-color);\n",
              "    fill: var(--disabled-fill-color);\n",
              "    box-shadow: none;\n",
              "  }\n",
              "\n",
              "  .colab-df-spinner {\n",
              "    border: 2px solid var(--fill-color);\n",
              "    border-color: transparent;\n",
              "    border-bottom-color: var(--fill-color);\n",
              "    animation:\n",
              "      spin 1s steps(1) infinite;\n",
              "  }\n",
              "\n",
              "  @keyframes spin {\n",
              "    0% {\n",
              "      border-color: transparent;\n",
              "      border-bottom-color: var(--fill-color);\n",
              "      border-left-color: var(--fill-color);\n",
              "    }\n",
              "    20% {\n",
              "      border-color: transparent;\n",
              "      border-left-color: var(--fill-color);\n",
              "      border-top-color: var(--fill-color);\n",
              "    }\n",
              "    30% {\n",
              "      border-color: transparent;\n",
              "      border-left-color: var(--fill-color);\n",
              "      border-top-color: var(--fill-color);\n",
              "      border-right-color: var(--fill-color);\n",
              "    }\n",
              "    40% {\n",
              "      border-color: transparent;\n",
              "      border-right-color: var(--fill-color);\n",
              "      border-top-color: var(--fill-color);\n",
              "    }\n",
              "    60% {\n",
              "      border-color: transparent;\n",
              "      border-right-color: var(--fill-color);\n",
              "    }\n",
              "    80% {\n",
              "      border-color: transparent;\n",
              "      border-right-color: var(--fill-color);\n",
              "      border-bottom-color: var(--fill-color);\n",
              "    }\n",
              "    90% {\n",
              "      border-color: transparent;\n",
              "      border-bottom-color: var(--fill-color);\n",
              "    }\n",
              "  }\n",
              "</style>\n",
              "\n",
              "  <script>\n",
              "    async function quickchart(key) {\n",
              "      const quickchartButtonEl =\n",
              "        document.querySelector('#' + key + ' button');\n",
              "      quickchartButtonEl.disabled = true;  // To prevent multiple clicks.\n",
              "      quickchartButtonEl.classList.add('colab-df-spinner');\n",
              "      try {\n",
              "        const charts = await google.colab.kernel.invokeFunction(\n",
              "            'suggestCharts', [key], {});\n",
              "      } catch (error) {\n",
              "        console.error('Error during call to suggestCharts:', error);\n",
              "      }\n",
              "      quickchartButtonEl.classList.remove('colab-df-spinner');\n",
              "      quickchartButtonEl.classList.add('colab-df-quickchart-complete');\n",
              "    }\n",
              "    (() => {\n",
              "      let quickchartButtonEl =\n",
              "        document.querySelector('#df-e3fd9f21-a8f5-4adc-a507-558f24917562 button');\n",
              "      quickchartButtonEl.style.display =\n",
              "        google.colab.kernel.accessAllowed ? 'block' : 'none';\n",
              "    })();\n",
              "  </script>\n",
              "</div>\n",
              "    </div>\n",
              "  </div>\n"
            ]
          },
          "metadata": {},
          "execution_count": 27
        }
      ]
    },
    {
      "cell_type": "markdown",
      "source": [
        "It would be wise to change farsi columns into English, but becasue of time limit, I ignore this step."
      ],
      "metadata": {
        "id": "YI54NpOZu3Dz"
      }
    },
    {
      "cell_type": "markdown",
      "source": [
        "## Data Types"
      ],
      "metadata": {
        "id": "EsNVf80Yu4t9"
      }
    },
    {
      "cell_type": "code",
      "source": [
        "print(contracts.info())"
      ],
      "metadata": {
        "colab": {
          "base_uri": "https://localhost:8080/",
          "height": 0
        },
        "id": "RS3Np3sxuudY",
        "outputId": "05d05389-6731-42d7-d1e0-9a1adf590b75"
      },
      "execution_count": 28,
      "outputs": [
        {
          "output_type": "stream",
          "name": "stdout",
          "text": [
            "<class 'pandas.core.frame.DataFrame'>\n",
            "RangeIndex: 14419 entries, 0 to 14418\n",
            "Data columns (total 12 columns):\n",
            " #   Column            Non-Null Count  Dtype         \n",
            "---  ------            --------------  -----         \n",
            " 0   shop_id           14419 non-null  int64         \n",
            " 1   package_order_id  14419 non-null  int64         \n",
            " 2   package_name      14419 non-null  object        \n",
            " 3   contract_date     14417 non-null  object        \n",
            " 4   start_date        14418 non-null  object        \n",
            " 5   end_date          14419 non-null  object        \n",
            " 6   real_end_date     8 non-null      datetime64[ns]\n",
            " 7   Listing_limit     14419 non-null  int64         \n",
            " 8   industry          14419 non-null  object        \n",
            " 9   category          14419 non-null  object        \n",
            " 10  region            14416 non-null  object        \n",
            " 11  city              14419 non-null  object        \n",
            "dtypes: datetime64[ns](1), int64(3), object(8)\n",
            "memory usage: 1.3+ MB\n",
            "None\n"
          ]
        }
      ]
    },
    {
      "cell_type": "markdown",
      "source": [
        "`contract_date`, `start_date`, and `end_date` should be transformed into datatime objects."
      ],
      "metadata": {
        "id": "84nfUTWBu8HI"
      }
    },
    {
      "cell_type": "markdown",
      "source": [
        "**NOTE:** There are missing values in columns contract_date, start_date, and region."
      ],
      "metadata": {
        "id": "xRufeRtBu996"
      }
    },
    {
      "cell_type": "code",
      "source": [
        "contracts['contract_date'] = pd.to_datetime(contracts['contract_date'])\n",
        "contracts['start_date'] = pd.to_datetime(contracts['start_date'])\n",
        "contracts['end_date'] = pd.to_datetime(contracts['end_date'])"
      ],
      "metadata": {
        "id": "DrGDf04yu5y0"
      },
      "execution_count": 29,
      "outputs": []
    },
    {
      "cell_type": "markdown",
      "source": [
        "Checking date columns again:"
      ],
      "metadata": {
        "id": "0nivpI1UvBcD"
      }
    },
    {
      "cell_type": "code",
      "source": [
        "print(contracts.info())"
      ],
      "metadata": {
        "colab": {
          "base_uri": "https://localhost:8080/",
          "height": 0
        },
        "id": "VdcB52hQvA6j",
        "outputId": "d876a324-b0fa-426b-c3d8-29a7a0dde423"
      },
      "execution_count": 30,
      "outputs": [
        {
          "output_type": "stream",
          "name": "stdout",
          "text": [
            "<class 'pandas.core.frame.DataFrame'>\n",
            "RangeIndex: 14419 entries, 0 to 14418\n",
            "Data columns (total 12 columns):\n",
            " #   Column            Non-Null Count  Dtype         \n",
            "---  ------            --------------  -----         \n",
            " 0   shop_id           14419 non-null  int64         \n",
            " 1   package_order_id  14419 non-null  int64         \n",
            " 2   package_name      14419 non-null  object        \n",
            " 3   contract_date     14417 non-null  datetime64[ns]\n",
            " 4   start_date        14418 non-null  datetime64[ns]\n",
            " 5   end_date          14419 non-null  datetime64[ns]\n",
            " 6   real_end_date     8 non-null      datetime64[ns]\n",
            " 7   Listing_limit     14419 non-null  int64         \n",
            " 8   industry          14419 non-null  object        \n",
            " 9   category          14419 non-null  object        \n",
            " 10  region            14416 non-null  object        \n",
            " 11  city              14419 non-null  object        \n",
            "dtypes: datetime64[ns](4), int64(3), object(5)\n",
            "memory usage: 1.3+ MB\n",
            "None\n"
          ]
        }
      ]
    },
    {
      "cell_type": "markdown",
      "source": [
        "We have also categorical column like industry, category, region, and city. In case of necessity, those columns will be defined as categories later."
      ],
      "metadata": {
        "id": "0M0QMvCSvFR4"
      }
    },
    {
      "cell_type": "markdown",
      "source": [
        "## Unique values of each column"
      ],
      "metadata": {
        "id": "Xc3CMi6JvGjW"
      }
    },
    {
      "cell_type": "code",
      "source": [
        "print(contracts.nunique())"
      ],
      "metadata": {
        "colab": {
          "base_uri": "https://localhost:8080/",
          "height": 0
        },
        "id": "XF9756ZmvDJQ",
        "outputId": "7089511c-2ef1-4bb5-c633-b63d4009354d"
      },
      "execution_count": 31,
      "outputs": [
        {
          "output_type": "stream",
          "name": "stdout",
          "text": [
            "shop_id              8123\n",
            "package_order_id    14417\n",
            "package_name            9\n",
            "contract_date        1186\n",
            "start_date           1130\n",
            "end_date             1549\n",
            "real_end_date           7\n",
            "Listing_limit          48\n",
            "industry                2\n",
            "category               11\n",
            "region                 29\n",
            "city                  282\n",
            "dtype: int64\n"
          ]
        }
      ]
    },
    {
      "cell_type": "markdown",
      "source": [
        "There are 8123 unqiue values of `shop_id`. Also, we have rows with the same `package_order_id`, which doesn't make a sense."
      ],
      "metadata": {
        "id": "5u71xUiKvJau"
      }
    },
    {
      "cell_type": "code",
      "source": [
        "contracts[contracts.duplicated(subset='package_order_id', keep=False)].\\\n",
        "    sort_values('package_order_id')"
      ],
      "metadata": {
        "colab": {
          "base_uri": "https://localhost:8080/",
          "height": 244
        },
        "id": "f9sSDUqNvIoE",
        "outputId": "280c1a82-4dd1-4998-ba21-0937874291c3"
      },
      "execution_count": 32,
      "outputs": [
        {
          "output_type": "execute_result",
          "data": {
            "text/plain": [
              "       shop_id  package_order_id package_name contract_date start_date  \\\n",
              "9828     14546              5660    General C    2019-07-20 2019-07-20   \n",
              "11579    14546              5660    General C    2019-07-20 2019-07-20   \n",
              "280      74876             60314        Car B    2022-01-08 2022-01-08   \n",
              "11651    74876             60314        Car B    2022-02-07 2022-01-08   \n",
              "\n",
              "        end_date real_end_date  Listing_limit industry           category  \\\n",
              "9828  2019-10-21           NaT              5  re_auto              املاک   \n",
              "11579 2019-10-21           NaT              5  general  خدمات و کسب و کار   \n",
              "280   2022-07-09           NaT             10  re_auto              خودرو   \n",
              "11651 2022-07-09           NaT             10  general        وسایل نقلیه   \n",
              "\n",
              "         region   city  \n",
              "9828   مازندران    آمل  \n",
              "11579  مازندران    آمل  \n",
              "280       همدان  همدان  \n",
              "11651     همدان  همدان  "
            ],
            "text/html": [
              "\n",
              "  <div id=\"df-aa055886-89ba-4c70-8021-70b2f461ac9b\" class=\"colab-df-container\">\n",
              "    <div>\n",
              "<style scoped>\n",
              "    .dataframe tbody tr th:only-of-type {\n",
              "        vertical-align: middle;\n",
              "    }\n",
              "\n",
              "    .dataframe tbody tr th {\n",
              "        vertical-align: top;\n",
              "    }\n",
              "\n",
              "    .dataframe thead th {\n",
              "        text-align: right;\n",
              "    }\n",
              "</style>\n",
              "<table border=\"1\" class=\"dataframe\">\n",
              "  <thead>\n",
              "    <tr style=\"text-align: right;\">\n",
              "      <th></th>\n",
              "      <th>shop_id</th>\n",
              "      <th>package_order_id</th>\n",
              "      <th>package_name</th>\n",
              "      <th>contract_date</th>\n",
              "      <th>start_date</th>\n",
              "      <th>end_date</th>\n",
              "      <th>real_end_date</th>\n",
              "      <th>Listing_limit</th>\n",
              "      <th>industry</th>\n",
              "      <th>category</th>\n",
              "      <th>region</th>\n",
              "      <th>city</th>\n",
              "    </tr>\n",
              "  </thead>\n",
              "  <tbody>\n",
              "    <tr>\n",
              "      <th>9828</th>\n",
              "      <td>14546</td>\n",
              "      <td>5660</td>\n",
              "      <td>General C</td>\n",
              "      <td>2019-07-20</td>\n",
              "      <td>2019-07-20</td>\n",
              "      <td>2019-10-21</td>\n",
              "      <td>NaT</td>\n",
              "      <td>5</td>\n",
              "      <td>re_auto</td>\n",
              "      <td>املاک</td>\n",
              "      <td>مازندران</td>\n",
              "      <td>آمل</td>\n",
              "    </tr>\n",
              "    <tr>\n",
              "      <th>11579</th>\n",
              "      <td>14546</td>\n",
              "      <td>5660</td>\n",
              "      <td>General C</td>\n",
              "      <td>2019-07-20</td>\n",
              "      <td>2019-07-20</td>\n",
              "      <td>2019-10-21</td>\n",
              "      <td>NaT</td>\n",
              "      <td>5</td>\n",
              "      <td>general</td>\n",
              "      <td>خدمات و کسب و کار</td>\n",
              "      <td>مازندران</td>\n",
              "      <td>آمل</td>\n",
              "    </tr>\n",
              "    <tr>\n",
              "      <th>280</th>\n",
              "      <td>74876</td>\n",
              "      <td>60314</td>\n",
              "      <td>Car B</td>\n",
              "      <td>2022-01-08</td>\n",
              "      <td>2022-01-08</td>\n",
              "      <td>2022-07-09</td>\n",
              "      <td>NaT</td>\n",
              "      <td>10</td>\n",
              "      <td>re_auto</td>\n",
              "      <td>خودرو</td>\n",
              "      <td>همدان</td>\n",
              "      <td>همدان</td>\n",
              "    </tr>\n",
              "    <tr>\n",
              "      <th>11651</th>\n",
              "      <td>74876</td>\n",
              "      <td>60314</td>\n",
              "      <td>Car B</td>\n",
              "      <td>2022-02-07</td>\n",
              "      <td>2022-01-08</td>\n",
              "      <td>2022-07-09</td>\n",
              "      <td>NaT</td>\n",
              "      <td>10</td>\n",
              "      <td>general</td>\n",
              "      <td>وسایل نقلیه</td>\n",
              "      <td>همدان</td>\n",
              "      <td>همدان</td>\n",
              "    </tr>\n",
              "  </tbody>\n",
              "</table>\n",
              "</div>\n",
              "    <div class=\"colab-df-buttons\">\n",
              "\n",
              "  <div class=\"colab-df-container\">\n",
              "    <button class=\"colab-df-convert\" onclick=\"convertToInteractive('df-aa055886-89ba-4c70-8021-70b2f461ac9b')\"\n",
              "            title=\"Convert this dataframe to an interactive table.\"\n",
              "            style=\"display:none;\">\n",
              "\n",
              "  <svg xmlns=\"http://www.w3.org/2000/svg\" height=\"24px\" viewBox=\"0 -960 960 960\">\n",
              "    <path d=\"M120-120v-720h720v720H120Zm60-500h600v-160H180v160Zm220 220h160v-160H400v160Zm0 220h160v-160H400v160ZM180-400h160v-160H180v160Zm440 0h160v-160H620v160ZM180-180h160v-160H180v160Zm440 0h160v-160H620v160Z\"/>\n",
              "  </svg>\n",
              "    </button>\n",
              "\n",
              "  <style>\n",
              "    .colab-df-container {\n",
              "      display:flex;\n",
              "      gap: 12px;\n",
              "    }\n",
              "\n",
              "    .colab-df-convert {\n",
              "      background-color: #E8F0FE;\n",
              "      border: none;\n",
              "      border-radius: 50%;\n",
              "      cursor: pointer;\n",
              "      display: none;\n",
              "      fill: #1967D2;\n",
              "      height: 32px;\n",
              "      padding: 0 0 0 0;\n",
              "      width: 32px;\n",
              "    }\n",
              "\n",
              "    .colab-df-convert:hover {\n",
              "      background-color: #E2EBFA;\n",
              "      box-shadow: 0px 1px 2px rgba(60, 64, 67, 0.3), 0px 1px 3px 1px rgba(60, 64, 67, 0.15);\n",
              "      fill: #174EA6;\n",
              "    }\n",
              "\n",
              "    .colab-df-buttons div {\n",
              "      margin-bottom: 4px;\n",
              "    }\n",
              "\n",
              "    [theme=dark] .colab-df-convert {\n",
              "      background-color: #3B4455;\n",
              "      fill: #D2E3FC;\n",
              "    }\n",
              "\n",
              "    [theme=dark] .colab-df-convert:hover {\n",
              "      background-color: #434B5C;\n",
              "      box-shadow: 0px 1px 3px 1px rgba(0, 0, 0, 0.15);\n",
              "      filter: drop-shadow(0px 1px 2px rgba(0, 0, 0, 0.3));\n",
              "      fill: #FFFFFF;\n",
              "    }\n",
              "  </style>\n",
              "\n",
              "    <script>\n",
              "      const buttonEl =\n",
              "        document.querySelector('#df-aa055886-89ba-4c70-8021-70b2f461ac9b button.colab-df-convert');\n",
              "      buttonEl.style.display =\n",
              "        google.colab.kernel.accessAllowed ? 'block' : 'none';\n",
              "\n",
              "      async function convertToInteractive(key) {\n",
              "        const element = document.querySelector('#df-aa055886-89ba-4c70-8021-70b2f461ac9b');\n",
              "        const dataTable =\n",
              "          await google.colab.kernel.invokeFunction('convertToInteractive',\n",
              "                                                    [key], {});\n",
              "        if (!dataTable) return;\n",
              "\n",
              "        const docLinkHtml = 'Like what you see? Visit the ' +\n",
              "          '<a target=\"_blank\" href=https://colab.research.google.com/notebooks/data_table.ipynb>data table notebook</a>'\n",
              "          + ' to learn more about interactive tables.';\n",
              "        element.innerHTML = '';\n",
              "        dataTable['output_type'] = 'display_data';\n",
              "        await google.colab.output.renderOutput(dataTable, element);\n",
              "        const docLink = document.createElement('div');\n",
              "        docLink.innerHTML = docLinkHtml;\n",
              "        element.appendChild(docLink);\n",
              "      }\n",
              "    </script>\n",
              "  </div>\n",
              "\n",
              "\n",
              "<div id=\"df-892d05f4-cea5-4c1a-860b-79eb3765b67a\">\n",
              "  <button class=\"colab-df-quickchart\" onclick=\"quickchart('df-892d05f4-cea5-4c1a-860b-79eb3765b67a')\"\n",
              "            title=\"Suggest charts.\"\n",
              "            style=\"display:none;\">\n",
              "\n",
              "<svg xmlns=\"http://www.w3.org/2000/svg\" height=\"24px\"viewBox=\"0 0 24 24\"\n",
              "     width=\"24px\">\n",
              "    <g>\n",
              "        <path d=\"M19 3H5c-1.1 0-2 .9-2 2v14c0 1.1.9 2 2 2h14c1.1 0 2-.9 2-2V5c0-1.1-.9-2-2-2zM9 17H7v-7h2v7zm4 0h-2V7h2v10zm4 0h-2v-4h2v4z\"/>\n",
              "    </g>\n",
              "</svg>\n",
              "  </button>\n",
              "\n",
              "<style>\n",
              "  .colab-df-quickchart {\n",
              "      --bg-color: #E8F0FE;\n",
              "      --fill-color: #1967D2;\n",
              "      --hover-bg-color: #E2EBFA;\n",
              "      --hover-fill-color: #174EA6;\n",
              "      --disabled-fill-color: #AAA;\n",
              "      --disabled-bg-color: #DDD;\n",
              "  }\n",
              "\n",
              "  [theme=dark] .colab-df-quickchart {\n",
              "      --bg-color: #3B4455;\n",
              "      --fill-color: #D2E3FC;\n",
              "      --hover-bg-color: #434B5C;\n",
              "      --hover-fill-color: #FFFFFF;\n",
              "      --disabled-bg-color: #3B4455;\n",
              "      --disabled-fill-color: #666;\n",
              "  }\n",
              "\n",
              "  .colab-df-quickchart {\n",
              "    background-color: var(--bg-color);\n",
              "    border: none;\n",
              "    border-radius: 50%;\n",
              "    cursor: pointer;\n",
              "    display: none;\n",
              "    fill: var(--fill-color);\n",
              "    height: 32px;\n",
              "    padding: 0;\n",
              "    width: 32px;\n",
              "  }\n",
              "\n",
              "  .colab-df-quickchart:hover {\n",
              "    background-color: var(--hover-bg-color);\n",
              "    box-shadow: 0 1px 2px rgba(60, 64, 67, 0.3), 0 1px 3px 1px rgba(60, 64, 67, 0.15);\n",
              "    fill: var(--button-hover-fill-color);\n",
              "  }\n",
              "\n",
              "  .colab-df-quickchart-complete:disabled,\n",
              "  .colab-df-quickchart-complete:disabled:hover {\n",
              "    background-color: var(--disabled-bg-color);\n",
              "    fill: var(--disabled-fill-color);\n",
              "    box-shadow: none;\n",
              "  }\n",
              "\n",
              "  .colab-df-spinner {\n",
              "    border: 2px solid var(--fill-color);\n",
              "    border-color: transparent;\n",
              "    border-bottom-color: var(--fill-color);\n",
              "    animation:\n",
              "      spin 1s steps(1) infinite;\n",
              "  }\n",
              "\n",
              "  @keyframes spin {\n",
              "    0% {\n",
              "      border-color: transparent;\n",
              "      border-bottom-color: var(--fill-color);\n",
              "      border-left-color: var(--fill-color);\n",
              "    }\n",
              "    20% {\n",
              "      border-color: transparent;\n",
              "      border-left-color: var(--fill-color);\n",
              "      border-top-color: var(--fill-color);\n",
              "    }\n",
              "    30% {\n",
              "      border-color: transparent;\n",
              "      border-left-color: var(--fill-color);\n",
              "      border-top-color: var(--fill-color);\n",
              "      border-right-color: var(--fill-color);\n",
              "    }\n",
              "    40% {\n",
              "      border-color: transparent;\n",
              "      border-right-color: var(--fill-color);\n",
              "      border-top-color: var(--fill-color);\n",
              "    }\n",
              "    60% {\n",
              "      border-color: transparent;\n",
              "      border-right-color: var(--fill-color);\n",
              "    }\n",
              "    80% {\n",
              "      border-color: transparent;\n",
              "      border-right-color: var(--fill-color);\n",
              "      border-bottom-color: var(--fill-color);\n",
              "    }\n",
              "    90% {\n",
              "      border-color: transparent;\n",
              "      border-bottom-color: var(--fill-color);\n",
              "    }\n",
              "  }\n",
              "</style>\n",
              "\n",
              "  <script>\n",
              "    async function quickchart(key) {\n",
              "      const quickchartButtonEl =\n",
              "        document.querySelector('#' + key + ' button');\n",
              "      quickchartButtonEl.disabled = true;  // To prevent multiple clicks.\n",
              "      quickchartButtonEl.classList.add('colab-df-spinner');\n",
              "      try {\n",
              "        const charts = await google.colab.kernel.invokeFunction(\n",
              "            'suggestCharts', [key], {});\n",
              "      } catch (error) {\n",
              "        console.error('Error during call to suggestCharts:', error);\n",
              "      }\n",
              "      quickchartButtonEl.classList.remove('colab-df-spinner');\n",
              "      quickchartButtonEl.classList.add('colab-df-quickchart-complete');\n",
              "    }\n",
              "    (() => {\n",
              "      let quickchartButtonEl =\n",
              "        document.querySelector('#df-892d05f4-cea5-4c1a-860b-79eb3765b67a button');\n",
              "      quickchartButtonEl.style.display =\n",
              "        google.colab.kernel.accessAllowed ? 'block' : 'none';\n",
              "    })();\n",
              "  </script>\n",
              "</div>\n",
              "    </div>\n",
              "  </div>\n"
            ]
          },
          "metadata": {},
          "execution_count": 32
        }
      ]
    },
    {
      "cell_type": "markdown",
      "source": [
        "According to `industry` and `category` columns, these two orders are different from each other; however, their `shop_id`, `package_name`, `start_date` and `end_date` and even their `city` and `region` are identical!"
      ],
      "metadata": {
        "id": "oH3aUC3QvOay"
      }
    },
    {
      "cell_type": "markdown",
      "source": [
        "There must be a mistake at data entry pipeline. Due to high uncertainty, all four rows are discarded from the following analysis."
      ],
      "metadata": {
        "id": "OQOokM7cvQMj"
      }
    },
    {
      "cell_type": "code",
      "source": [
        "contracts.drop_duplicates(subset='package_order_id', keep=False, inplace=True)"
      ],
      "metadata": {
        "id": "rQRLVN-WvMs6"
      },
      "execution_count": 33,
      "outputs": []
    },
    {
      "cell_type": "markdown",
      "source": [
        "## Missing Values"
      ],
      "metadata": {
        "id": "-nS4AhVFvTJ3"
      }
    },
    {
      "cell_type": "code",
      "source": [
        "missing_conditions = contracts['contract_date'].isna()|contracts['start_date'].isna()|contracts['region'].isna()\n",
        "contracts[missing_conditions]"
      ],
      "metadata": {
        "colab": {
          "base_uri": "https://localhost:8080/",
          "height": 376
        },
        "id": "bd0KgY9hvR72",
        "outputId": "361c9e18-4bee-42d2-e02b-8c46bef7b9a9"
      },
      "execution_count": 34,
      "outputs": [
        {
          "output_type": "execute_result",
          "data": {
            "text/plain": [
              "       shop_id  package_order_id package_name contract_date start_date  \\\n",
              "3        76180             63743        Car C    2022-08-09        NaT   \n",
              "10600    71562             53139    General A    2021-03-13 2021-03-13   \n",
              "11147    68825             48980    General B    2021-01-13 2021-01-13   \n",
              "12884    68392             48821    General C    2021-01-06 2021-01-06   \n",
              "12955    76557             64920    General C           NaT 2022-10-26   \n",
              "13769    76554             64903    General A           NaT 2022-10-26   \n",
              "\n",
              "        end_date real_end_date  Listing_limit industry  \\\n",
              "3     2023-02-08           NaT             10  re_auto   \n",
              "10600 2021-09-26           NaT             15  general   \n",
              "11147 2021-04-14           NaT              5  general   \n",
              "12884 2021-05-07           NaT             30  general   \n",
              "12955 2023-01-24           NaT              5  general   \n",
              "13769 2023-10-25           NaT              5  general   \n",
              "\n",
              "                      category          region    city  \n",
              "3                        خودرو  آذربایجان شرقی   مراغه  \n",
              "10600  ورزشی ، تفریحی ، سرگرمی             NaN   تهران  \n",
              "11147        خدمات و کسب و کار             NaN   تهران  \n",
              "12884                  استخدام             NaN   تهران  \n",
              "12955                  استخدام           تهران  شهریار  \n",
              "13769    صنعتی و اداری و تجاری           سمنان   سمنان  "
            ],
            "text/html": [
              "\n",
              "  <div id=\"df-c18f4135-7704-442a-b995-138ed8c16177\" class=\"colab-df-container\">\n",
              "    <div>\n",
              "<style scoped>\n",
              "    .dataframe tbody tr th:only-of-type {\n",
              "        vertical-align: middle;\n",
              "    }\n",
              "\n",
              "    .dataframe tbody tr th {\n",
              "        vertical-align: top;\n",
              "    }\n",
              "\n",
              "    .dataframe thead th {\n",
              "        text-align: right;\n",
              "    }\n",
              "</style>\n",
              "<table border=\"1\" class=\"dataframe\">\n",
              "  <thead>\n",
              "    <tr style=\"text-align: right;\">\n",
              "      <th></th>\n",
              "      <th>shop_id</th>\n",
              "      <th>package_order_id</th>\n",
              "      <th>package_name</th>\n",
              "      <th>contract_date</th>\n",
              "      <th>start_date</th>\n",
              "      <th>end_date</th>\n",
              "      <th>real_end_date</th>\n",
              "      <th>Listing_limit</th>\n",
              "      <th>industry</th>\n",
              "      <th>category</th>\n",
              "      <th>region</th>\n",
              "      <th>city</th>\n",
              "    </tr>\n",
              "  </thead>\n",
              "  <tbody>\n",
              "    <tr>\n",
              "      <th>3</th>\n",
              "      <td>76180</td>\n",
              "      <td>63743</td>\n",
              "      <td>Car C</td>\n",
              "      <td>2022-08-09</td>\n",
              "      <td>NaT</td>\n",
              "      <td>2023-02-08</td>\n",
              "      <td>NaT</td>\n",
              "      <td>10</td>\n",
              "      <td>re_auto</td>\n",
              "      <td>خودرو</td>\n",
              "      <td>آذربایجان شرقی</td>\n",
              "      <td>مراغه</td>\n",
              "    </tr>\n",
              "    <tr>\n",
              "      <th>10600</th>\n",
              "      <td>71562</td>\n",
              "      <td>53139</td>\n",
              "      <td>General A</td>\n",
              "      <td>2021-03-13</td>\n",
              "      <td>2021-03-13</td>\n",
              "      <td>2021-09-26</td>\n",
              "      <td>NaT</td>\n",
              "      <td>15</td>\n",
              "      <td>general</td>\n",
              "      <td>ورزشی ، تفریحی ، سرگرمی</td>\n",
              "      <td>NaN</td>\n",
              "      <td>تهران</td>\n",
              "    </tr>\n",
              "    <tr>\n",
              "      <th>11147</th>\n",
              "      <td>68825</td>\n",
              "      <td>48980</td>\n",
              "      <td>General B</td>\n",
              "      <td>2021-01-13</td>\n",
              "      <td>2021-01-13</td>\n",
              "      <td>2021-04-14</td>\n",
              "      <td>NaT</td>\n",
              "      <td>5</td>\n",
              "      <td>general</td>\n",
              "      <td>خدمات و کسب و کار</td>\n",
              "      <td>NaN</td>\n",
              "      <td>تهران</td>\n",
              "    </tr>\n",
              "    <tr>\n",
              "      <th>12884</th>\n",
              "      <td>68392</td>\n",
              "      <td>48821</td>\n",
              "      <td>General C</td>\n",
              "      <td>2021-01-06</td>\n",
              "      <td>2021-01-06</td>\n",
              "      <td>2021-05-07</td>\n",
              "      <td>NaT</td>\n",
              "      <td>30</td>\n",
              "      <td>general</td>\n",
              "      <td>استخدام</td>\n",
              "      <td>NaN</td>\n",
              "      <td>تهران</td>\n",
              "    </tr>\n",
              "    <tr>\n",
              "      <th>12955</th>\n",
              "      <td>76557</td>\n",
              "      <td>64920</td>\n",
              "      <td>General C</td>\n",
              "      <td>NaT</td>\n",
              "      <td>2022-10-26</td>\n",
              "      <td>2023-01-24</td>\n",
              "      <td>NaT</td>\n",
              "      <td>5</td>\n",
              "      <td>general</td>\n",
              "      <td>استخدام</td>\n",
              "      <td>تهران</td>\n",
              "      <td>شهریار</td>\n",
              "    </tr>\n",
              "    <tr>\n",
              "      <th>13769</th>\n",
              "      <td>76554</td>\n",
              "      <td>64903</td>\n",
              "      <td>General A</td>\n",
              "      <td>NaT</td>\n",
              "      <td>2022-10-26</td>\n",
              "      <td>2023-10-25</td>\n",
              "      <td>NaT</td>\n",
              "      <td>5</td>\n",
              "      <td>general</td>\n",
              "      <td>صنعتی و اداری و تجاری</td>\n",
              "      <td>سمنان</td>\n",
              "      <td>سمنان</td>\n",
              "    </tr>\n",
              "  </tbody>\n",
              "</table>\n",
              "</div>\n",
              "    <div class=\"colab-df-buttons\">\n",
              "\n",
              "  <div class=\"colab-df-container\">\n",
              "    <button class=\"colab-df-convert\" onclick=\"convertToInteractive('df-c18f4135-7704-442a-b995-138ed8c16177')\"\n",
              "            title=\"Convert this dataframe to an interactive table.\"\n",
              "            style=\"display:none;\">\n",
              "\n",
              "  <svg xmlns=\"http://www.w3.org/2000/svg\" height=\"24px\" viewBox=\"0 -960 960 960\">\n",
              "    <path d=\"M120-120v-720h720v720H120Zm60-500h600v-160H180v160Zm220 220h160v-160H400v160Zm0 220h160v-160H400v160ZM180-400h160v-160H180v160Zm440 0h160v-160H620v160ZM180-180h160v-160H180v160Zm440 0h160v-160H620v160Z\"/>\n",
              "  </svg>\n",
              "    </button>\n",
              "\n",
              "  <style>\n",
              "    .colab-df-container {\n",
              "      display:flex;\n",
              "      gap: 12px;\n",
              "    }\n",
              "\n",
              "    .colab-df-convert {\n",
              "      background-color: #E8F0FE;\n",
              "      border: none;\n",
              "      border-radius: 50%;\n",
              "      cursor: pointer;\n",
              "      display: none;\n",
              "      fill: #1967D2;\n",
              "      height: 32px;\n",
              "      padding: 0 0 0 0;\n",
              "      width: 32px;\n",
              "    }\n",
              "\n",
              "    .colab-df-convert:hover {\n",
              "      background-color: #E2EBFA;\n",
              "      box-shadow: 0px 1px 2px rgba(60, 64, 67, 0.3), 0px 1px 3px 1px rgba(60, 64, 67, 0.15);\n",
              "      fill: #174EA6;\n",
              "    }\n",
              "\n",
              "    .colab-df-buttons div {\n",
              "      margin-bottom: 4px;\n",
              "    }\n",
              "\n",
              "    [theme=dark] .colab-df-convert {\n",
              "      background-color: #3B4455;\n",
              "      fill: #D2E3FC;\n",
              "    }\n",
              "\n",
              "    [theme=dark] .colab-df-convert:hover {\n",
              "      background-color: #434B5C;\n",
              "      box-shadow: 0px 1px 3px 1px rgba(0, 0, 0, 0.15);\n",
              "      filter: drop-shadow(0px 1px 2px rgba(0, 0, 0, 0.3));\n",
              "      fill: #FFFFFF;\n",
              "    }\n",
              "  </style>\n",
              "\n",
              "    <script>\n",
              "      const buttonEl =\n",
              "        document.querySelector('#df-c18f4135-7704-442a-b995-138ed8c16177 button.colab-df-convert');\n",
              "      buttonEl.style.display =\n",
              "        google.colab.kernel.accessAllowed ? 'block' : 'none';\n",
              "\n",
              "      async function convertToInteractive(key) {\n",
              "        const element = document.querySelector('#df-c18f4135-7704-442a-b995-138ed8c16177');\n",
              "        const dataTable =\n",
              "          await google.colab.kernel.invokeFunction('convertToInteractive',\n",
              "                                                    [key], {});\n",
              "        if (!dataTable) return;\n",
              "\n",
              "        const docLinkHtml = 'Like what you see? Visit the ' +\n",
              "          '<a target=\"_blank\" href=https://colab.research.google.com/notebooks/data_table.ipynb>data table notebook</a>'\n",
              "          + ' to learn more about interactive tables.';\n",
              "        element.innerHTML = '';\n",
              "        dataTable['output_type'] = 'display_data';\n",
              "        await google.colab.output.renderOutput(dataTable, element);\n",
              "        const docLink = document.createElement('div');\n",
              "        docLink.innerHTML = docLinkHtml;\n",
              "        element.appendChild(docLink);\n",
              "      }\n",
              "    </script>\n",
              "  </div>\n",
              "\n",
              "\n",
              "<div id=\"df-739871a0-c31d-4459-9767-889d7c300496\">\n",
              "  <button class=\"colab-df-quickchart\" onclick=\"quickchart('df-739871a0-c31d-4459-9767-889d7c300496')\"\n",
              "            title=\"Suggest charts.\"\n",
              "            style=\"display:none;\">\n",
              "\n",
              "<svg xmlns=\"http://www.w3.org/2000/svg\" height=\"24px\"viewBox=\"0 0 24 24\"\n",
              "     width=\"24px\">\n",
              "    <g>\n",
              "        <path d=\"M19 3H5c-1.1 0-2 .9-2 2v14c0 1.1.9 2 2 2h14c1.1 0 2-.9 2-2V5c0-1.1-.9-2-2-2zM9 17H7v-7h2v7zm4 0h-2V7h2v10zm4 0h-2v-4h2v4z\"/>\n",
              "    </g>\n",
              "</svg>\n",
              "  </button>\n",
              "\n",
              "<style>\n",
              "  .colab-df-quickchart {\n",
              "      --bg-color: #E8F0FE;\n",
              "      --fill-color: #1967D2;\n",
              "      --hover-bg-color: #E2EBFA;\n",
              "      --hover-fill-color: #174EA6;\n",
              "      --disabled-fill-color: #AAA;\n",
              "      --disabled-bg-color: #DDD;\n",
              "  }\n",
              "\n",
              "  [theme=dark] .colab-df-quickchart {\n",
              "      --bg-color: #3B4455;\n",
              "      --fill-color: #D2E3FC;\n",
              "      --hover-bg-color: #434B5C;\n",
              "      --hover-fill-color: #FFFFFF;\n",
              "      --disabled-bg-color: #3B4455;\n",
              "      --disabled-fill-color: #666;\n",
              "  }\n",
              "\n",
              "  .colab-df-quickchart {\n",
              "    background-color: var(--bg-color);\n",
              "    border: none;\n",
              "    border-radius: 50%;\n",
              "    cursor: pointer;\n",
              "    display: none;\n",
              "    fill: var(--fill-color);\n",
              "    height: 32px;\n",
              "    padding: 0;\n",
              "    width: 32px;\n",
              "  }\n",
              "\n",
              "  .colab-df-quickchart:hover {\n",
              "    background-color: var(--hover-bg-color);\n",
              "    box-shadow: 0 1px 2px rgba(60, 64, 67, 0.3), 0 1px 3px 1px rgba(60, 64, 67, 0.15);\n",
              "    fill: var(--button-hover-fill-color);\n",
              "  }\n",
              "\n",
              "  .colab-df-quickchart-complete:disabled,\n",
              "  .colab-df-quickchart-complete:disabled:hover {\n",
              "    background-color: var(--disabled-bg-color);\n",
              "    fill: var(--disabled-fill-color);\n",
              "    box-shadow: none;\n",
              "  }\n",
              "\n",
              "  .colab-df-spinner {\n",
              "    border: 2px solid var(--fill-color);\n",
              "    border-color: transparent;\n",
              "    border-bottom-color: var(--fill-color);\n",
              "    animation:\n",
              "      spin 1s steps(1) infinite;\n",
              "  }\n",
              "\n",
              "  @keyframes spin {\n",
              "    0% {\n",
              "      border-color: transparent;\n",
              "      border-bottom-color: var(--fill-color);\n",
              "      border-left-color: var(--fill-color);\n",
              "    }\n",
              "    20% {\n",
              "      border-color: transparent;\n",
              "      border-left-color: var(--fill-color);\n",
              "      border-top-color: var(--fill-color);\n",
              "    }\n",
              "    30% {\n",
              "      border-color: transparent;\n",
              "      border-left-color: var(--fill-color);\n",
              "      border-top-color: var(--fill-color);\n",
              "      border-right-color: var(--fill-color);\n",
              "    }\n",
              "    40% {\n",
              "      border-color: transparent;\n",
              "      border-right-color: var(--fill-color);\n",
              "      border-top-color: var(--fill-color);\n",
              "    }\n",
              "    60% {\n",
              "      border-color: transparent;\n",
              "      border-right-color: var(--fill-color);\n",
              "    }\n",
              "    80% {\n",
              "      border-color: transparent;\n",
              "      border-right-color: var(--fill-color);\n",
              "      border-bottom-color: var(--fill-color);\n",
              "    }\n",
              "    90% {\n",
              "      border-color: transparent;\n",
              "      border-bottom-color: var(--fill-color);\n",
              "    }\n",
              "  }\n",
              "</style>\n",
              "\n",
              "  <script>\n",
              "    async function quickchart(key) {\n",
              "      const quickchartButtonEl =\n",
              "        document.querySelector('#' + key + ' button');\n",
              "      quickchartButtonEl.disabled = true;  // To prevent multiple clicks.\n",
              "      quickchartButtonEl.classList.add('colab-df-spinner');\n",
              "      try {\n",
              "        const charts = await google.colab.kernel.invokeFunction(\n",
              "            'suggestCharts', [key], {});\n",
              "      } catch (error) {\n",
              "        console.error('Error during call to suggestCharts:', error);\n",
              "      }\n",
              "      quickchartButtonEl.classList.remove('colab-df-spinner');\n",
              "      quickchartButtonEl.classList.add('colab-df-quickchart-complete');\n",
              "    }\n",
              "    (() => {\n",
              "      let quickchartButtonEl =\n",
              "        document.querySelector('#df-739871a0-c31d-4459-9767-889d7c300496 button');\n",
              "      quickchartButtonEl.style.display =\n",
              "        google.colab.kernel.accessAllowed ? 'block' : 'none';\n",
              "    })();\n",
              "  </script>\n",
              "</div>\n",
              "    </div>\n",
              "  </div>\n"
            ]
          },
          "metadata": {},
          "execution_count": 34
        }
      ]
    },
    {
      "cell_type": "markdown",
      "source": [
        "NaT for date columns and NaN for other types are both standard ways of missingness indications."
      ],
      "metadata": {
        "id": "txt5XOuivjGv"
      }
    },
    {
      "cell_type": "markdown",
      "source": [
        "## Month column"
      ],
      "metadata": {
        "id": "O_AFEj1Vvk2b"
      }
    },
    {
      "cell_type": "code",
      "source": [
        "contracts['month'] = contracts['end_date'].dt.month\n",
        "contracts['month'] = np.where(contracts['real_end_date'].notnull(),\n",
        "                              contracts['real_end_date'].dt.month,\n",
        "                              contracts['end_date'].dt.month)"
      ],
      "metadata": {
        "id": "9f2NI12qvUPU"
      },
      "execution_count": 35,
      "outputs": []
    },
    {
      "cell_type": "markdown",
      "source": [
        "Months found in this data set:"
      ],
      "metadata": {
        "id": "gvJA6GOivrav"
      }
    },
    {
      "cell_type": "code",
      "source": [
        "print(contracts['month'].unique())"
      ],
      "metadata": {
        "colab": {
          "base_uri": "https://localhost:8080/",
          "height": 0
        },
        "id": "HpNpqC46vpn0",
        "outputId": "b4b72e6c-2185-4cfa-89d9-0ca08e510e10"
      },
      "execution_count": 36,
      "outputs": [
        {
          "output_type": "stream",
          "name": "stdout",
          "text": [
            "[10.  7.  5.  2.  3.  4.  8.  1. 11. 12.  6.  9.]\n"
          ]
        }
      ]
    },
    {
      "cell_type": "markdown",
      "source": [
        "**Let's do the calculation for the last three months of year (i.e. October, November, and December).**"
      ],
      "metadata": {
        "id": "A99_5yUDvt-C"
      }
    },
    {
      "cell_type": "markdown",
      "source": [
        "# Renew and Return Rate Calculation"
      ],
      "metadata": {
        "id": "u6kDFwpSvvgz"
      }
    },
    {
      "cell_type": "markdown",
      "source": [
        "First, a new column represents any future `start_date` for a new contract:"
      ],
      "metadata": {
        "id": "WvUvOyfwvxVp"
      }
    },
    {
      "cell_type": "code",
      "source": [
        "contracts_sorted = contracts.sort_values(by = ['shop_id', 'start_date'])\n",
        "contracts_sorted['start_date_next'] = contracts_sorted.groupby('shop_id')['start_date'].shift(-1)"
      ],
      "metadata": {
        "id": "CcUlaTfhvse-"
      },
      "execution_count": 37,
      "outputs": []
    },
    {
      "cell_type": "markdown",
      "source": [
        "Then, days between `end_date` of previous contract and `start_date` of new one is determined:"
      ],
      "metadata": {
        "id": "PWGTIn0Tv1lf"
      }
    },
    {
      "cell_type": "code",
      "source": [
        "contracts_sorted['days_to_new'] = contracts_sorted['start_date_next'] - contracts_sorted['end_date']\n",
        "\n",
        "# If real_end_date exists:\n",
        "contracts_sorted['days_to_new'] = np.where(contracts_sorted['real_end_date'].notnull(), contracts_sorted['start_date_next'] - contracts_sorted['real_end_date'], contracts_sorted['days_to_new'])\n",
        "\n",
        "contracts_sorted['days_to_new'] = contracts_sorted['days_to_new'].dt.days"
      ],
      "metadata": {
        "id": "SesYIFzavzyP"
      },
      "execution_count": 38,
      "outputs": []
    },
    {
      "cell_type": "markdown",
      "source": [
        "A new column represents whether the conditions of renewal or return have been met:"
      ],
      "metadata": {
        "id": "DT9O8LdUv58e"
      }
    },
    {
      "cell_type": "code",
      "source": [
        "# Renew\n",
        "contracts_sorted['renew'] = contracts_sorted['days_to_new'] <= 30\n",
        "# Return\n",
        "contracts_sorted['return'] = contracts_sorted['days_to_new'] > 30"
      ],
      "metadata": {
        "id": "ovVTq17_v3vL"
      },
      "execution_count": 39,
      "outputs": []
    },
    {
      "cell_type": "markdown",
      "source": [
        "Let's filter only those rows that its `end_date` is within the last three months of year:"
      ],
      "metadata": {
        "id": "tg70_VCkv8vC"
      }
    },
    {
      "cell_type": "code",
      "source": [
        "condition_months = contracts_sorted['month'].isin([10, 11, 12])\n",
        "contracts_endseason = contracts_sorted[condition_months]"
      ],
      "metadata": {
        "id": "4NaBE0njv7QW"
      },
      "execution_count": 40,
      "outputs": []
    },
    {
      "cell_type": "markdown",
      "source": [
        "Last but not least, our interested rate are calculated:"
      ],
      "metadata": {
        "id": "GkpW8fqov_Wv"
      }
    },
    {
      "cell_type": "code",
      "source": [
        "renew_return_rates = contracts_endseason.groupby(['region', 'category', 'month'])['renew', 'return'].agg(lambda x: np.mean(x) * 100)\n",
        "renew_return_rates = renew_return_rates.reset_index()"
      ],
      "metadata": {
        "colab": {
          "base_uri": "https://localhost:8080/",
          "height": 0
        },
        "id": "ihjB80Piv92V",
        "outputId": "68e2109f-9d10-422b-ec50-4d9b55c15d7a"
      },
      "execution_count": 41,
      "outputs": [
        {
          "output_type": "stream",
          "name": "stderr",
          "text": [
            "<ipython-input-41-3bcc78f42be6>:1: FutureWarning: Indexing with multiple keys (implicitly converted to a tuple of keys) will be deprecated, use a list instead.\n",
            "  renew_return_rates = contracts_endseason.groupby(['region', 'category', 'month'])['renew', 'return'].agg(lambda x: np.mean(x) * 100)\n"
          ]
        }
      ]
    },
    {
      "cell_type": "markdown",
      "source": [
        "Renaming columns:"
      ],
      "metadata": {
        "id": "Ysdbw7BnwBkK"
      }
    },
    {
      "cell_type": "code",
      "source": [
        "renew_return_rates.rename(columns = {'renew':'renew_rate_perc', 'return':'return_rate_perc'},\n",
        "                          inplace = True)"
      ],
      "metadata": {
        "id": "5I2CNIUQwAZs"
      },
      "execution_count": 42,
      "outputs": []
    },
    {
      "cell_type": "markdown",
      "source": [
        "The dataframe is like the following:"
      ],
      "metadata": {
        "id": "KJx0QqKtwFhl"
      }
    },
    {
      "cell_type": "code",
      "source": [
        "renew_return_rates.head()"
      ],
      "metadata": {
        "colab": {
          "base_uri": "https://localhost:8080/",
          "height": 206
        },
        "id": "MGgeeknWwC8Q",
        "outputId": "b723d29b-c4a8-49b2-80ef-cb1217f6f7ce"
      },
      "execution_count": 43,
      "outputs": [
        {
          "output_type": "execute_result",
          "data": {
            "text/plain": [
              "           region           category  month  renew_rate_perc  return_rate_perc\n",
              "0  آذربایجان شرقی              املاک   10.0             40.0              20.0\n",
              "1  آذربایجان شرقی              املاک   11.0            100.0               0.0\n",
              "2  آذربایجان شرقی              املاک   12.0             20.0              10.0\n",
              "3  آذربایجان شرقی  خدمات و کسب و کار   11.0            100.0               0.0\n",
              "4  آذربایجان شرقی  خدمات و کسب و کار   12.0             50.0               0.0"
            ],
            "text/html": [
              "\n",
              "  <div id=\"df-dd53f19a-c299-4d33-8d8b-76908e83bc80\" class=\"colab-df-container\">\n",
              "    <div>\n",
              "<style scoped>\n",
              "    .dataframe tbody tr th:only-of-type {\n",
              "        vertical-align: middle;\n",
              "    }\n",
              "\n",
              "    .dataframe tbody tr th {\n",
              "        vertical-align: top;\n",
              "    }\n",
              "\n",
              "    .dataframe thead th {\n",
              "        text-align: right;\n",
              "    }\n",
              "</style>\n",
              "<table border=\"1\" class=\"dataframe\">\n",
              "  <thead>\n",
              "    <tr style=\"text-align: right;\">\n",
              "      <th></th>\n",
              "      <th>region</th>\n",
              "      <th>category</th>\n",
              "      <th>month</th>\n",
              "      <th>renew_rate_perc</th>\n",
              "      <th>return_rate_perc</th>\n",
              "    </tr>\n",
              "  </thead>\n",
              "  <tbody>\n",
              "    <tr>\n",
              "      <th>0</th>\n",
              "      <td>آذربایجان شرقی</td>\n",
              "      <td>املاک</td>\n",
              "      <td>10.0</td>\n",
              "      <td>40.0</td>\n",
              "      <td>20.0</td>\n",
              "    </tr>\n",
              "    <tr>\n",
              "      <th>1</th>\n",
              "      <td>آذربایجان شرقی</td>\n",
              "      <td>املاک</td>\n",
              "      <td>11.0</td>\n",
              "      <td>100.0</td>\n",
              "      <td>0.0</td>\n",
              "    </tr>\n",
              "    <tr>\n",
              "      <th>2</th>\n",
              "      <td>آذربایجان شرقی</td>\n",
              "      <td>املاک</td>\n",
              "      <td>12.0</td>\n",
              "      <td>20.0</td>\n",
              "      <td>10.0</td>\n",
              "    </tr>\n",
              "    <tr>\n",
              "      <th>3</th>\n",
              "      <td>آذربایجان شرقی</td>\n",
              "      <td>خدمات و کسب و کار</td>\n",
              "      <td>11.0</td>\n",
              "      <td>100.0</td>\n",
              "      <td>0.0</td>\n",
              "    </tr>\n",
              "    <tr>\n",
              "      <th>4</th>\n",
              "      <td>آذربایجان شرقی</td>\n",
              "      <td>خدمات و کسب و کار</td>\n",
              "      <td>12.0</td>\n",
              "      <td>50.0</td>\n",
              "      <td>0.0</td>\n",
              "    </tr>\n",
              "  </tbody>\n",
              "</table>\n",
              "</div>\n",
              "    <div class=\"colab-df-buttons\">\n",
              "\n",
              "  <div class=\"colab-df-container\">\n",
              "    <button class=\"colab-df-convert\" onclick=\"convertToInteractive('df-dd53f19a-c299-4d33-8d8b-76908e83bc80')\"\n",
              "            title=\"Convert this dataframe to an interactive table.\"\n",
              "            style=\"display:none;\">\n",
              "\n",
              "  <svg xmlns=\"http://www.w3.org/2000/svg\" height=\"24px\" viewBox=\"0 -960 960 960\">\n",
              "    <path d=\"M120-120v-720h720v720H120Zm60-500h600v-160H180v160Zm220 220h160v-160H400v160Zm0 220h160v-160H400v160ZM180-400h160v-160H180v160Zm440 0h160v-160H620v160ZM180-180h160v-160H180v160Zm440 0h160v-160H620v160Z\"/>\n",
              "  </svg>\n",
              "    </button>\n",
              "\n",
              "  <style>\n",
              "    .colab-df-container {\n",
              "      display:flex;\n",
              "      gap: 12px;\n",
              "    }\n",
              "\n",
              "    .colab-df-convert {\n",
              "      background-color: #E8F0FE;\n",
              "      border: none;\n",
              "      border-radius: 50%;\n",
              "      cursor: pointer;\n",
              "      display: none;\n",
              "      fill: #1967D2;\n",
              "      height: 32px;\n",
              "      padding: 0 0 0 0;\n",
              "      width: 32px;\n",
              "    }\n",
              "\n",
              "    .colab-df-convert:hover {\n",
              "      background-color: #E2EBFA;\n",
              "      box-shadow: 0px 1px 2px rgba(60, 64, 67, 0.3), 0px 1px 3px 1px rgba(60, 64, 67, 0.15);\n",
              "      fill: #174EA6;\n",
              "    }\n",
              "\n",
              "    .colab-df-buttons div {\n",
              "      margin-bottom: 4px;\n",
              "    }\n",
              "\n",
              "    [theme=dark] .colab-df-convert {\n",
              "      background-color: #3B4455;\n",
              "      fill: #D2E3FC;\n",
              "    }\n",
              "\n",
              "    [theme=dark] .colab-df-convert:hover {\n",
              "      background-color: #434B5C;\n",
              "      box-shadow: 0px 1px 3px 1px rgba(0, 0, 0, 0.15);\n",
              "      filter: drop-shadow(0px 1px 2px rgba(0, 0, 0, 0.3));\n",
              "      fill: #FFFFFF;\n",
              "    }\n",
              "  </style>\n",
              "\n",
              "    <script>\n",
              "      const buttonEl =\n",
              "        document.querySelector('#df-dd53f19a-c299-4d33-8d8b-76908e83bc80 button.colab-df-convert');\n",
              "      buttonEl.style.display =\n",
              "        google.colab.kernel.accessAllowed ? 'block' : 'none';\n",
              "\n",
              "      async function convertToInteractive(key) {\n",
              "        const element = document.querySelector('#df-dd53f19a-c299-4d33-8d8b-76908e83bc80');\n",
              "        const dataTable =\n",
              "          await google.colab.kernel.invokeFunction('convertToInteractive',\n",
              "                                                    [key], {});\n",
              "        if (!dataTable) return;\n",
              "\n",
              "        const docLinkHtml = 'Like what you see? Visit the ' +\n",
              "          '<a target=\"_blank\" href=https://colab.research.google.com/notebooks/data_table.ipynb>data table notebook</a>'\n",
              "          + ' to learn more about interactive tables.';\n",
              "        element.innerHTML = '';\n",
              "        dataTable['output_type'] = 'display_data';\n",
              "        await google.colab.output.renderOutput(dataTable, element);\n",
              "        const docLink = document.createElement('div');\n",
              "        docLink.innerHTML = docLinkHtml;\n",
              "        element.appendChild(docLink);\n",
              "      }\n",
              "    </script>\n",
              "  </div>\n",
              "\n",
              "\n",
              "<div id=\"df-6667da2b-6955-441e-acb9-4cfe2b25f7d5\">\n",
              "  <button class=\"colab-df-quickchart\" onclick=\"quickchart('df-6667da2b-6955-441e-acb9-4cfe2b25f7d5')\"\n",
              "            title=\"Suggest charts.\"\n",
              "            style=\"display:none;\">\n",
              "\n",
              "<svg xmlns=\"http://www.w3.org/2000/svg\" height=\"24px\"viewBox=\"0 0 24 24\"\n",
              "     width=\"24px\">\n",
              "    <g>\n",
              "        <path d=\"M19 3H5c-1.1 0-2 .9-2 2v14c0 1.1.9 2 2 2h14c1.1 0 2-.9 2-2V5c0-1.1-.9-2-2-2zM9 17H7v-7h2v7zm4 0h-2V7h2v10zm4 0h-2v-4h2v4z\"/>\n",
              "    </g>\n",
              "</svg>\n",
              "  </button>\n",
              "\n",
              "<style>\n",
              "  .colab-df-quickchart {\n",
              "      --bg-color: #E8F0FE;\n",
              "      --fill-color: #1967D2;\n",
              "      --hover-bg-color: #E2EBFA;\n",
              "      --hover-fill-color: #174EA6;\n",
              "      --disabled-fill-color: #AAA;\n",
              "      --disabled-bg-color: #DDD;\n",
              "  }\n",
              "\n",
              "  [theme=dark] .colab-df-quickchart {\n",
              "      --bg-color: #3B4455;\n",
              "      --fill-color: #D2E3FC;\n",
              "      --hover-bg-color: #434B5C;\n",
              "      --hover-fill-color: #FFFFFF;\n",
              "      --disabled-bg-color: #3B4455;\n",
              "      --disabled-fill-color: #666;\n",
              "  }\n",
              "\n",
              "  .colab-df-quickchart {\n",
              "    background-color: var(--bg-color);\n",
              "    border: none;\n",
              "    border-radius: 50%;\n",
              "    cursor: pointer;\n",
              "    display: none;\n",
              "    fill: var(--fill-color);\n",
              "    height: 32px;\n",
              "    padding: 0;\n",
              "    width: 32px;\n",
              "  }\n",
              "\n",
              "  .colab-df-quickchart:hover {\n",
              "    background-color: var(--hover-bg-color);\n",
              "    box-shadow: 0 1px 2px rgba(60, 64, 67, 0.3), 0 1px 3px 1px rgba(60, 64, 67, 0.15);\n",
              "    fill: var(--button-hover-fill-color);\n",
              "  }\n",
              "\n",
              "  .colab-df-quickchart-complete:disabled,\n",
              "  .colab-df-quickchart-complete:disabled:hover {\n",
              "    background-color: var(--disabled-bg-color);\n",
              "    fill: var(--disabled-fill-color);\n",
              "    box-shadow: none;\n",
              "  }\n",
              "\n",
              "  .colab-df-spinner {\n",
              "    border: 2px solid var(--fill-color);\n",
              "    border-color: transparent;\n",
              "    border-bottom-color: var(--fill-color);\n",
              "    animation:\n",
              "      spin 1s steps(1) infinite;\n",
              "  }\n",
              "\n",
              "  @keyframes spin {\n",
              "    0% {\n",
              "      border-color: transparent;\n",
              "      border-bottom-color: var(--fill-color);\n",
              "      border-left-color: var(--fill-color);\n",
              "    }\n",
              "    20% {\n",
              "      border-color: transparent;\n",
              "      border-left-color: var(--fill-color);\n",
              "      border-top-color: var(--fill-color);\n",
              "    }\n",
              "    30% {\n",
              "      border-color: transparent;\n",
              "      border-left-color: var(--fill-color);\n",
              "      border-top-color: var(--fill-color);\n",
              "      border-right-color: var(--fill-color);\n",
              "    }\n",
              "    40% {\n",
              "      border-color: transparent;\n",
              "      border-right-color: var(--fill-color);\n",
              "      border-top-color: var(--fill-color);\n",
              "    }\n",
              "    60% {\n",
              "      border-color: transparent;\n",
              "      border-right-color: var(--fill-color);\n",
              "    }\n",
              "    80% {\n",
              "      border-color: transparent;\n",
              "      border-right-color: var(--fill-color);\n",
              "      border-bottom-color: var(--fill-color);\n",
              "    }\n",
              "    90% {\n",
              "      border-color: transparent;\n",
              "      border-bottom-color: var(--fill-color);\n",
              "    }\n",
              "  }\n",
              "</style>\n",
              "\n",
              "  <script>\n",
              "    async function quickchart(key) {\n",
              "      const quickchartButtonEl =\n",
              "        document.querySelector('#' + key + ' button');\n",
              "      quickchartButtonEl.disabled = true;  // To prevent multiple clicks.\n",
              "      quickchartButtonEl.classList.add('colab-df-spinner');\n",
              "      try {\n",
              "        const charts = await google.colab.kernel.invokeFunction(\n",
              "            'suggestCharts', [key], {});\n",
              "      } catch (error) {\n",
              "        console.error('Error during call to suggestCharts:', error);\n",
              "      }\n",
              "      quickchartButtonEl.classList.remove('colab-df-spinner');\n",
              "      quickchartButtonEl.classList.add('colab-df-quickchart-complete');\n",
              "    }\n",
              "    (() => {\n",
              "      let quickchartButtonEl =\n",
              "        document.querySelector('#df-6667da2b-6955-441e-acb9-4cfe2b25f7d5 button');\n",
              "      quickchartButtonEl.style.display =\n",
              "        google.colab.kernel.accessAllowed ? 'block' : 'none';\n",
              "    })();\n",
              "  </script>\n",
              "</div>\n",
              "    </div>\n",
              "  </div>\n"
            ]
          },
          "metadata": {},
          "execution_count": 43
        }
      ]
    },
    {
      "cell_type": "markdown",
      "source": [
        "# Renew and Return Rate Visualization"
      ],
      "metadata": {
        "id": "y0PWtD0TxDuQ"
      }
    },
    {
      "cell_type": "markdown",
      "source": [
        "## Renew Rate Histogram"
      ],
      "metadata": {
        "id": "EDXcW7isxHvz"
      }
    },
    {
      "cell_type": "code",
      "source": [
        "sns.histplot(x = 'renew_rate_perc', data = renew_return_rates)\n",
        "plt.xlabel('Renew Rate %')\n",
        "plt.show()"
      ],
      "metadata": {
        "colab": {
          "base_uri": "https://localhost:8080/",
          "height": 449
        },
        "id": "cQjZ5DviwGjT",
        "outputId": "b152faa2-804a-4260-d4cf-84f15de2e720"
      },
      "execution_count": 44,
      "outputs": [
        {
          "output_type": "display_data",
          "data": {
            "text/plain": [
              "<Figure size 640x480 with 1 Axes>"
            ],
            "image/png": "[encoded data removed]"
          },
          "metadata": {}
        }
      ]
    },
    {
      "cell_type": "markdown",
      "source": [
        "## Return Rate Histogram"
      ],
      "metadata": {
        "id": "TZDVLltvxPCS"
      }
    },
    {
      "cell_type": "code",
      "source": [
        "sns.histplot(x = 'renew_rate_perc', data = renew_return_rates)\n",
        "plt.xlabel('Renew Rate %')\n",
        "plt.show()"
      ],
      "metadata": {
        "colab": {
          "base_uri": "https://localhost:8080/",
          "height": 449
        },
        "id": "NXqM8j3FxOnv",
        "outputId": "61053a7a-14e1-4aa1-b488-3dbb387e46a3"
      },
      "execution_count": 45,
      "outputs": [
        {
          "output_type": "display_data",
          "data": {
            "text/plain": [
              "<Figure size 640x480 with 1 Axes>"
            ],
            "image/png": "[encoded data removed]"
          },
          "metadata": {}
        }
      ]
    },
    {
      "cell_type": "markdown",
      "source": [
        "## Difference Between Renew and Return Rates Distribution"
      ],
      "metadata": {
        "id": "lhVuqjXbxY6h"
      }
    },
    {
      "cell_type": "code",
      "source": [
        "pivoted_renew_return = pd.melt(renew_return_rates,\n",
        "                               id_vars=['region', 'category', 'month'],\n",
        "                               var_name = 'renew_return', value_name='percent')"
      ],
      "metadata": {
        "id": "cgwVEMSsxSw1"
      },
      "execution_count": 47,
      "outputs": []
    },
    {
      "cell_type": "code",
      "source": [
        "sns.boxplot(x = 'renew_return', y = 'percent', data = pivoted_renew_return)\n",
        "plt.xlabel('Renew vs. Return')\n",
        "plt.ylabel('Percent')\n",
        "plt.show()"
      ],
      "metadata": {
        "colab": {
          "base_uri": "https://localhost:8080/",
          "height": 449
        },
        "id": "wpmF3HDHxXXQ",
        "outputId": "bf5102ff-831e-43d4-c1a8-d68221ccc507"
      },
      "execution_count": 48,
      "outputs": [
        {
          "output_type": "display_data",
          "data": {
            "text/plain": [
              "<Figure size 640x480 with 1 Axes>"
            ],
            "image/png": "[encoded data removed]"
          },
          "metadata": {}
        }
      ]
    },
    {
      "cell_type": "markdown",
      "source": [
        "Clearly, the longer it takes since the last contract, the higher the probability of customer churn."
      ],
      "metadata": {
        "id": "ZsyGnW3NxhdI"
      }
    },
    {
      "cell_type": "markdown",
      "source": [
        "It's not implied what percentage rates should be considered low so a wise thing to do is to use quartiles of its distribution."
      ],
      "metadata": {
        "id": "BSpetj4Txmt1"
      }
    },
    {
      "cell_type": "code",
      "source": [
        "renew_quartiles = np.quantile(renew_return_rates['renew_rate_perc'], q = [0.25, 0.5, 0.75])\n",
        "\n",
        "print(f'The first quartile of renew distribution is: {renew_quartiles[0]:.2f}')\n",
        "print(f'The second quartile (median) of renew distribution is: {renew_quartiles[1]:.2f}')\n",
        "print(f'The third quartile of renew distribution is: {renew_quartiles[2]:.2f}')"
      ],
      "metadata": {
        "colab": {
          "base_uri": "https://localhost:8080/",
          "height": 0
        },
        "id": "ZttTFUQ1xeow",
        "outputId": "100ea0df-d197-412c-9196-1cf0eb2ba4b0"
      },
      "execution_count": 49,
      "outputs": [
        {
          "output_type": "stream",
          "name": "stdout",
          "text": [
            "The first quartile of renew distribution is: 0.00\n",
            "The second quartile (median) of renew distribution is: 18.47\n",
            "The third quartile of renew distribution is: 42.98\n"
          ]
        }
      ]
    },
    {
      "cell_type": "markdown",
      "source": [
        "## Renew Across Regions"
      ],
      "metadata": {
        "id": "vghI1W6sx0hL"
      }
    },
    {
      "cell_type": "code",
      "source": [
        "sns.boxplot(x = 'renew_rate_perc', y = 'region', data = renew_return_rates)\n",
        "plt.xlabel('Percent')\n",
        "plt.ylabel('Region')\n",
        "plt.show()"
      ],
      "metadata": {
        "colab": {
          "base_uri": "https://localhost:8080/",
          "height": 449
        },
        "id": "W2mNMnIpxvT_",
        "outputId": "5bfc7544-cf0f-4f21-8ba8-5911120c40df"
      },
      "execution_count": 50,
      "outputs": [
        {
          "output_type": "display_data",
          "data": {
            "text/plain": [
              "<Figure size 640x480 with 1 Axes>"
            ],
            "image/png": "[encoded data removed]"
          },
          "metadata": {}
        }
      ]
    },
    {
      "cell_type": "markdown",
      "source": [
        "**Regions with lowest renewal rates are:<br>\n",
        "Booshehr, Khorasan Jonubi, Charmahal Bakhtiari, Yazd, Kerman, Kermanshah, and Khorasan Shomali**"
      ],
      "metadata": {
        "id": "LfezTzPzx7Dq"
      }
    },
    {
      "cell_type": "markdown",
      "source": [
        "## Renew Across Category"
      ],
      "metadata": {
        "id": "8E2RHWyqyAbN"
      }
    },
    {
      "cell_type": "code",
      "source": [
        "sns.boxplot(x = 'renew_rate_perc', y = 'category', data = renew_return_rates)\n",
        "plt.xlabel('Percent')\n",
        "plt.ylabel('Category')\n",
        "plt.show()"
      ],
      "metadata": {
        "colab": {
          "base_uri": "https://localhost:8080/",
          "height": 449
        },
        "id": "naaJ_u10x3V0",
        "outputId": "055e2dcc-b4d7-49b5-903f-5f156eca233e"
      },
      "execution_count": 51,
      "outputs": [
        {
          "output_type": "display_data",
          "data": {
            "text/plain": [
              "<Figure size 640x480 with 1 Axes>"
            ],
            "image/png": "[encoded data removed]"
          },
          "metadata": {}
        }
      ]
    },
    {
      "cell_type": "markdown",
      "source": [
        "**Categories with lowest renewal rates are:<br>\n",
        "Khodro, Lavazem shakhsi, and Mobile-tablet.**"
      ],
      "metadata": {
        "id": "xfFg9wf_yEh6"
      }
    },
    {
      "cell_type": "markdown",
      "source": [
        "Let's use the remaining information from the initial data set."
      ],
      "metadata": {
        "id": "86dpQA2KyIbp"
      }
    },
    {
      "cell_type": "code",
      "source": [
        "# package_name, listing_limit, and industry table\n",
        "contracts_dummies = pd.concat([contracts[['region', 'category', 'month','Listing_limit']], pd.get_dummies(contracts['package_name']), pd.get_dummies(contracts['industry'])], axis=1)\n",
        "\n",
        "contracts_dummies = contracts_dummies.groupby(['region', 'category', 'month']).mean().reset_index()\n",
        "contracts_dummies = contracts_dummies[contracts_dummies['month'].isin([10, 11, 12])]\n",
        "\n",
        "merged_df = renew_return_rates.merge(contracts_dummies, how='inner', on = ['region', 'category', 'month'])"
      ],
      "metadata": {
        "id": "-bMp2CFkyDO1"
      },
      "execution_count": 53,
      "outputs": []
    },
    {
      "cell_type": "markdown",
      "source": [
        "## Renew vs. Car Industry Packages"
      ],
      "metadata": {
        "id": "Bd2yuhEYya8n"
      }
    },
    {
      "cell_type": "code",
      "source": [
        "sns.scatterplot(x = 'Car A', y = 'renew_rate_perc', data = merged_df[merged_df['Car A'] != 0])\n",
        "plt.show()"
      ],
      "metadata": {
        "colab": {
          "base_uri": "https://localhost:8080/",
          "height": 449
        },
        "id": "tzdGeFtVyTPJ",
        "outputId": "df668b67-5e93-43e8-d7fe-f12c6ad1a15e"
      },
      "execution_count": 54,
      "outputs": [
        {
          "output_type": "display_data",
          "data": {
            "text/plain": [
              "<Figure size 640x480 with 1 Axes>"
            ],
            "image/png": "[encoded data removed]"
          },
          "metadata": {}
        }
      ]
    },
    {
      "cell_type": "code",
      "source": [
        "sns.scatterplot(x = 'Car B', y = 'renew_rate_perc', data = merged_df[merged_df['Car B'] != 0])\n",
        "plt.show()"
      ],
      "metadata": {
        "colab": {
          "base_uri": "https://localhost:8080/",
          "height": 449
        },
        "id": "SsZk10-byh6X",
        "outputId": "21dec14f-7dce-4975-f609-2109bfbd8569"
      },
      "execution_count": 55,
      "outputs": [
        {
          "output_type": "display_data",
          "data": {
            "text/plain": [
              "<Figure size 640x480 with 1 Axes>"
            ],
            "image/png": "[encoded data removed]"
          },
          "metadata": {}
        }
      ]
    },
    {
      "cell_type": "code",
      "source": [
        "sns.scatterplot(x = 'Car C', y = 'renew_rate_perc', data = merged_df[merged_df['Car C'] != 0])\n",
        "plt.show()"
      ],
      "metadata": {
        "colab": {
          "base_uri": "https://localhost:8080/",
          "height": 449
        },
        "id": "4MO4opiTyi2P",
        "outputId": "3eea2aac-b5ba-4ae2-accb-7abfb0ef87f0"
      },
      "execution_count": 56,
      "outputs": [
        {
          "output_type": "display_data",
          "data": {
            "text/plain": [
              "<Figure size 640x480 with 1 Axes>"
            ],
            "image/png": "[encoded data removed]"
          },
          "metadata": {}
        }
      ]
    },
    {
      "cell_type": "markdown",
      "source": [
        "It seems those regions and categories with higher A package offerings have slightly higher rates. In Package C type, the relationship is reversed."
      ],
      "metadata": {
        "id": "ZNwpdvUkyk4c"
      }
    },
    {
      "cell_type": "markdown",
      "source": [
        "## Renew vs. General Industry"
      ],
      "metadata": {
        "id": "9pwlIwx4y5KI"
      }
    },
    {
      "cell_type": "code",
      "source": [
        "sns.scatterplot(x = 'General A', y = 'renew_rate_perc', data = merged_df[merged_df['General A'] != 0])\n",
        "plt.show()"
      ],
      "metadata": {
        "colab": {
          "base_uri": "https://localhost:8080/",
          "height": 449
        },
        "id": "ygtDRA8Qyjzf",
        "outputId": "10404a6b-fab7-4f26-9d98-098b841417c9"
      },
      "execution_count": 57,
      "outputs": [
        {
          "output_type": "display_data",
          "data": {
            "text/plain": [
              "<Figure size 640x480 with 1 Axes>"
            ],
            "image/png": "[encoded data removed]"
          },
          "metadata": {}
        }
      ]
    },
    {
      "cell_type": "code",
      "source": [
        "sns.scatterplot(x = 'General B', y = 'renew_rate_perc', data = merged_df[merged_df['General B'] != 0])\n",
        "plt.show()"
      ],
      "metadata": {
        "colab": {
          "base_uri": "https://localhost:8080/",
          "height": 449
        },
        "id": "kB5nJP-Py9cQ",
        "outputId": "1e7c8789-6cfc-4df1-fd5f-174d40abd84b"
      },
      "execution_count": 58,
      "outputs": [
        {
          "output_type": "display_data",
          "data": {
            "text/plain": [
              "<Figure size 640x480 with 1 Axes>"
            ],
            "image/png": "[encoded data removed]"
          },
          "metadata": {}
        }
      ]
    },
    {
      "cell_type": "code",
      "source": [
        "sns.scatterplot(x = 'General C', y = 'renew_rate_perc', data = merged_df[merged_df['General C'] != 0])\n",
        "plt.show()"
      ],
      "metadata": {
        "colab": {
          "base_uri": "https://localhost:8080/",
          "height": 449
        },
        "id": "1K45v75by-ZE",
        "outputId": "fdc37d52-3739-446a-bf74-e5edfa47fb70"
      },
      "execution_count": 59,
      "outputs": [
        {
          "output_type": "display_data",
          "data": {
            "text/plain": [
              "<Figure size 640x480 with 1 Axes>"
            ],
            "image/png": "[encoded data removed]"
          },
          "metadata": {}
        }
      ]
    },
    {
      "cell_type": "markdown",
      "source": [
        "Packages A and B have led to higher rates of renewal."
      ],
      "metadata": {
        "id": "Ui9YSoGhzBR7"
      }
    },
    {
      "cell_type": "markdown",
      "source": [
        "## Renew vs. Real Estate"
      ],
      "metadata": {
        "id": "FOSCIW4nzIlG"
      }
    },
    {
      "cell_type": "code",
      "source": [
        "sns.scatterplot(x = 'Real Estate A', y = 'renew_rate_perc', data = merged_df[merged_df['Real Estate A'] != 0])\n",
        "plt.show()"
      ],
      "metadata": {
        "colab": {
          "base_uri": "https://localhost:8080/",
          "height": 449
        },
        "id": "bqHzj-ygy_Ih",
        "outputId": "11dbe9f9-20c9-4dd7-aa3a-96631de4bb45"
      },
      "execution_count": 60,
      "outputs": [
        {
          "output_type": "display_data",
          "data": {
            "text/plain": [
              "<Figure size 640x480 with 1 Axes>"
            ],
            "image/png": "[encoded data removed]"
          },
          "metadata": {}
        }
      ]
    },
    {
      "cell_type": "code",
      "source": [
        "sns.scatterplot(x = 'Real Estate B', y = 'renew_rate_perc', data = merged_df[merged_df['Real Estate B'] != 0])\n",
        "plt.show()"
      ],
      "metadata": {
        "colab": {
          "base_uri": "https://localhost:8080/",
          "height": 449
        },
        "id": "xNRgaJJNzL4U",
        "outputId": "4a622e42-296d-45ed-aa62-6c76132800b3"
      },
      "execution_count": 61,
      "outputs": [
        {
          "output_type": "display_data",
          "data": {
            "text/plain": [
              "<Figure size 640x480 with 1 Axes>"
            ],
            "image/png": "[encoded data removed]"
          },
          "metadata": {}
        }
      ]
    },
    {
      "cell_type": "code",
      "source": [
        "sns.scatterplot(x = 'Real Estate C', y = 'renew_rate_perc', data = merged_df[merged_df['Real Estate C'] != 0])\n",
        "plt.show()"
      ],
      "metadata": {
        "colab": {
          "base_uri": "https://localhost:8080/",
          "height": 449
        },
        "id": "k2ShzaFMzMj6",
        "outputId": "e0e82ffa-7a9f-4353-e9d5-6fb728065a59"
      },
      "execution_count": 62,
      "outputs": [
        {
          "output_type": "display_data",
          "data": {
            "text/plain": [
              "<Figure size 640x480 with 1 Axes>"
            ],
            "image/png": "[encoded data removed]"
          },
          "metadata": {}
        }
      ]
    },
    {
      "cell_type": "markdown",
      "source": [
        "Here, package B doesn't perfom well!"
      ],
      "metadata": {
        "id": "QPOkIlpOzPvK"
      }
    },
    {
      "cell_type": "markdown",
      "source": [
        "## Renew throughout Months"
      ],
      "metadata": {
        "id": "oH3VzIBRzqnv"
      }
    },
    {
      "cell_type": "code",
      "source": [
        "renew_return_rates"
      ],
      "metadata": {
        "colab": {
          "base_uri": "https://localhost:8080/",
          "height": 424
        },
        "id": "zRQN_Os1z3k3",
        "outputId": "1f3a15f9-b31c-49d2-ac16-9604c0d3d9c5"
      },
      "execution_count": 63,
      "outputs": [
        {
          "output_type": "execute_result",
          "data": {
            "text/plain": [
              "             region               category  month  renew_rate_perc  \\\n",
              "0    آذربایجان شرقی                  املاک   10.0             40.0   \n",
              "1    آذربایجان شرقی                  املاک   11.0            100.0   \n",
              "2    آذربایجان شرقی                  املاک   12.0             20.0   \n",
              "3    آذربایجان شرقی      خدمات و کسب و کار   11.0            100.0   \n",
              "4    آذربایجان شرقی      خدمات و کسب و کار   12.0             50.0   \n",
              "..              ...                    ...    ...              ...   \n",
              "331           گیلان            وسایل نقلیه   11.0              0.0   \n",
              "332           گیلان            وسایل نقلیه   12.0              0.0   \n",
              "333           گیلان  گروه لوازم الکترونیکی   12.0              0.0   \n",
              "334             یزد                  خودرو   12.0              0.0   \n",
              "335             یزد            وسایل نقلیه   10.0              0.0   \n",
              "\n",
              "     return_rate_perc  \n",
              "0                20.0  \n",
              "1                 0.0  \n",
              "2                10.0  \n",
              "3                 0.0  \n",
              "4                 0.0  \n",
              "..                ...  \n",
              "331               0.0  \n",
              "332               0.0  \n",
              "333               0.0  \n",
              "334               0.0  \n",
              "335               0.0  \n",
              "\n",
              "[336 rows x 5 columns]"
            ],
            "text/html": [
              "\n",
              "  <div id=\"df-3554a55e-3f48-4624-aba1-c47bba2209d3\" class=\"colab-df-container\">\n",
              "    <div>\n",
              "<style scoped>\n",
              "    .dataframe tbody tr th:only-of-type {\n",
              "        vertical-align: middle;\n",
              "    }\n",
              "\n",
              "    .dataframe tbody tr th {\n",
              "        vertical-align: top;\n",
              "    }\n",
              "\n",
              "    .dataframe thead th {\n",
              "        text-align: right;\n",
              "    }\n",
              "</style>\n",
              "<table border=\"1\" class=\"dataframe\">\n",
              "  <thead>\n",
              "    <tr style=\"text-align: right;\">\n",
              "      <th></th>\n",
              "      <th>region</th>\n",
              "      <th>category</th>\n",
              "      <th>month</th>\n",
              "      <th>renew_rate_perc</th>\n",
              "      <th>return_rate_perc</th>\n",
              "    </tr>\n",
              "  </thead>\n",
              "  <tbody>\n",
              "    <tr>\n",
              "      <th>0</th>\n",
              "      <td>آذربایجان شرقی</td>\n",
              "      <td>املاک</td>\n",
              "      <td>10.0</td>\n",
              "      <td>40.0</td>\n",
              "      <td>20.0</td>\n",
              "    </tr>\n",
              "    <tr>\n",
              "      <th>1</th>\n",
              "      <td>آذربایجان شرقی</td>\n",
              "      <td>املاک</td>\n",
              "      <td>11.0</td>\n",
              "      <td>100.0</td>\n",
              "      <td>0.0</td>\n",
              "    </tr>\n",
              "    <tr>\n",
              "      <th>2</th>\n",
              "      <td>آذربایجان شرقی</td>\n",
              "      <td>املاک</td>\n",
              "      <td>12.0</td>\n",
              "      <td>20.0</td>\n",
              "      <td>10.0</td>\n",
              "    </tr>\n",
              "    <tr>\n",
              "      <th>3</th>\n",
              "      <td>آذربایجان شرقی</td>\n",
              "      <td>خدمات و کسب و کار</td>\n",
              "      <td>11.0</td>\n",
              "      <td>100.0</td>\n",
              "      <td>0.0</td>\n",
              "    </tr>\n",
              "    <tr>\n",
              "      <th>4</th>\n",
              "      <td>آذربایجان شرقی</td>\n",
              "      <td>خدمات و کسب و کار</td>\n",
              "      <td>12.0</td>\n",
              "      <td>50.0</td>\n",
              "      <td>0.0</td>\n",
              "    </tr>\n",
              "    <tr>\n",
              "      <th>...</th>\n",
              "      <td>...</td>\n",
              "      <td>...</td>\n",
              "      <td>...</td>\n",
              "      <td>...</td>\n",
              "      <td>...</td>\n",
              "    </tr>\n",
              "    <tr>\n",
              "      <th>331</th>\n",
              "      <td>گیلان</td>\n",
              "      <td>وسایل نقلیه</td>\n",
              "      <td>11.0</td>\n",
              "      <td>0.0</td>\n",
              "      <td>0.0</td>\n",
              "    </tr>\n",
              "    <tr>\n",
              "      <th>332</th>\n",
              "      <td>گیلان</td>\n",
              "      <td>وسایل نقلیه</td>\n",
              "      <td>12.0</td>\n",
              "      <td>0.0</td>\n",
              "      <td>0.0</td>\n",
              "    </tr>\n",
              "    <tr>\n",
              "      <th>333</th>\n",
              "      <td>گیلان</td>\n",
              "      <td>گروه لوازم الکترونیکی</td>\n",
              "      <td>12.0</td>\n",
              "      <td>0.0</td>\n",
              "      <td>0.0</td>\n",
              "    </tr>\n",
              "    <tr>\n",
              "      <th>334</th>\n",
              "      <td>یزد</td>\n",
              "      <td>خودرو</td>\n",
              "      <td>12.0</td>\n",
              "      <td>0.0</td>\n",
              "      <td>0.0</td>\n",
              "    </tr>\n",
              "    <tr>\n",
              "      <th>335</th>\n",
              "      <td>یزد</td>\n",
              "      <td>وسایل نقلیه</td>\n",
              "      <td>10.0</td>\n",
              "      <td>0.0</td>\n",
              "      <td>0.0</td>\n",
              "    </tr>\n",
              "  </tbody>\n",
              "</table>\n",
              "<p>336 rows × 5 columns</p>\n",
              "</div>\n",
              "    <div class=\"colab-df-buttons\">\n",
              "\n",
              "  <div class=\"colab-df-container\">\n",
              "    <button class=\"colab-df-convert\" onclick=\"convertToInteractive('df-3554a55e-3f48-4624-aba1-c47bba2209d3')\"\n",
              "            title=\"Convert this dataframe to an interactive table.\"\n",
              "            style=\"display:none;\">\n",
              "\n",
              "  <svg xmlns=\"http://www.w3.org/2000/svg\" height=\"24px\" viewBox=\"0 -960 960 960\">\n",
              "    <path d=\"M120-120v-720h720v720H120Zm60-500h600v-160H180v160Zm220 220h160v-160H400v160Zm0 220h160v-160H400v160ZM180-400h160v-160H180v160Zm440 0h160v-160H620v160ZM180-180h160v-160H180v160Zm440 0h160v-160H620v160Z\"/>\n",
              "  </svg>\n",
              "    </button>\n",
              "\n",
              "  <style>\n",
              "    .colab-df-container {\n",
              "      display:flex;\n",
              "      gap: 12px;\n",
              "    }\n",
              "\n",
              "    .colab-df-convert {\n",
              "      background-color: #E8F0FE;\n",
              "      border: none;\n",
              "      border-radius: 50%;\n",
              "      cursor: pointer;\n",
              "      display: none;\n",
              "      fill: #1967D2;\n",
              "      height: 32px;\n",
              "      padding: 0 0 0 0;\n",
              "      width: 32px;\n",
              "    }\n",
              "\n",
              "    .colab-df-convert:hover {\n",
              "      background-color: #E2EBFA;\n",
              "      box-shadow: 0px 1px 2px rgba(60, 64, 67, 0.3), 0px 1px 3px 1px rgba(60, 64, 67, 0.15);\n",
              "      fill: #174EA6;\n",
              "    }\n",
              "\n",
              "    .colab-df-buttons div {\n",
              "      margin-bottom: 4px;\n",
              "    }\n",
              "\n",
              "    [theme=dark] .colab-df-convert {\n",
              "      background-color: #3B4455;\n",
              "      fill: #D2E3FC;\n",
              "    }\n",
              "\n",
              "    [theme=dark] .colab-df-convert:hover {\n",
              "      background-color: #434B5C;\n",
              "      box-shadow: 0px 1px 3px 1px rgba(0, 0, 0, 0.15);\n",
              "      filter: drop-shadow(0px 1px 2px rgba(0, 0, 0, 0.3));\n",
              "      fill: #FFFFFF;\n",
              "    }\n",
              "  </style>\n",
              "\n",
              "    <script>\n",
              "      const buttonEl =\n",
              "        document.querySelector('#df-3554a55e-3f48-4624-aba1-c47bba2209d3 button.colab-df-convert');\n",
              "      buttonEl.style.display =\n",
              "        google.colab.kernel.accessAllowed ? 'block' : 'none';\n",
              "\n",
              "      async function convertToInteractive(key) {\n",
              "        const element = document.querySelector('#df-3554a55e-3f48-4624-aba1-c47bba2209d3');\n",
              "        const dataTable =\n",
              "          await google.colab.kernel.invokeFunction('convertToInteractive',\n",
              "                                                    [key], {});\n",
              "        if (!dataTable) return;\n",
              "\n",
              "        const docLinkHtml = 'Like what you see? Visit the ' +\n",
              "          '<a target=\"_blank\" href=https://colab.research.google.com/notebooks/data_table.ipynb>data table notebook</a>'\n",
              "          + ' to learn more about interactive tables.';\n",
              "        element.innerHTML = '';\n",
              "        dataTable['output_type'] = 'display_data';\n",
              "        await google.colab.output.renderOutput(dataTable, element);\n",
              "        const docLink = document.createElement('div');\n",
              "        docLink.innerHTML = docLinkHtml;\n",
              "        element.appendChild(docLink);\n",
              "      }\n",
              "    </script>\n",
              "  </div>\n",
              "\n",
              "\n",
              "<div id=\"df-e1f2db9d-4a43-44b1-89e0-a79afecaf8ff\">\n",
              "  <button class=\"colab-df-quickchart\" onclick=\"quickchart('df-e1f2db9d-4a43-44b1-89e0-a79afecaf8ff')\"\n",
              "            title=\"Suggest charts.\"\n",
              "            style=\"display:none;\">\n",
              "\n",
              "<svg xmlns=\"http://www.w3.org/2000/svg\" height=\"24px\"viewBox=\"0 0 24 24\"\n",
              "     width=\"24px\">\n",
              "    <g>\n",
              "        <path d=\"M19 3H5c-1.1 0-2 .9-2 2v14c0 1.1.9 2 2 2h14c1.1 0 2-.9 2-2V5c0-1.1-.9-2-2-2zM9 17H7v-7h2v7zm4 0h-2V7h2v10zm4 0h-2v-4h2v4z\"/>\n",
              "    </g>\n",
              "</svg>\n",
              "  </button>\n",
              "\n",
              "<style>\n",
              "  .colab-df-quickchart {\n",
              "      --bg-color: #E8F0FE;\n",
              "      --fill-color: #1967D2;\n",
              "      --hover-bg-color: #E2EBFA;\n",
              "      --hover-fill-color: #174EA6;\n",
              "      --disabled-fill-color: #AAA;\n",
              "      --disabled-bg-color: #DDD;\n",
              "  }\n",
              "\n",
              "  [theme=dark] .colab-df-quickchart {\n",
              "      --bg-color: #3B4455;\n",
              "      --fill-color: #D2E3FC;\n",
              "      --hover-bg-color: #434B5C;\n",
              "      --hover-fill-color: #FFFFFF;\n",
              "      --disabled-bg-color: #3B4455;\n",
              "      --disabled-fill-color: #666;\n",
              "  }\n",
              "\n",
              "  .colab-df-quickchart {\n",
              "    background-color: var(--bg-color);\n",
              "    border: none;\n",
              "    border-radius: 50%;\n",
              "    cursor: pointer;\n",
              "    display: none;\n",
              "    fill: var(--fill-color);\n",
              "    height: 32px;\n",
              "    padding: 0;\n",
              "    width: 32px;\n",
              "  }\n",
              "\n",
              "  .colab-df-quickchart:hover {\n",
              "    background-color: var(--hover-bg-color);\n",
              "    box-shadow: 0 1px 2px rgba(60, 64, 67, 0.3), 0 1px 3px 1px rgba(60, 64, 67, 0.15);\n",
              "    fill: var(--button-hover-fill-color);\n",
              "  }\n",
              "\n",
              "  .colab-df-quickchart-complete:disabled,\n",
              "  .colab-df-quickchart-complete:disabled:hover {\n",
              "    background-color: var(--disabled-bg-color);\n",
              "    fill: var(--disabled-fill-color);\n",
              "    box-shadow: none;\n",
              "  }\n",
              "\n",
              "  .colab-df-spinner {\n",
              "    border: 2px solid var(--fill-color);\n",
              "    border-color: transparent;\n",
              "    border-bottom-color: var(--fill-color);\n",
              "    animation:\n",
              "      spin 1s steps(1) infinite;\n",
              "  }\n",
              "\n",
              "  @keyframes spin {\n",
              "    0% {\n",
              "      border-color: transparent;\n",
              "      border-bottom-color: var(--fill-color);\n",
              "      border-left-color: var(--fill-color);\n",
              "    }\n",
              "    20% {\n",
              "      border-color: transparent;\n",
              "      border-left-color: var(--fill-color);\n",
              "      border-top-color: var(--fill-color);\n",
              "    }\n",
              "    30% {\n",
              "      border-color: transparent;\n",
              "      border-left-color: var(--fill-color);\n",
              "      border-top-color: var(--fill-color);\n",
              "      border-right-color: var(--fill-color);\n",
              "    }\n",
              "    40% {\n",
              "      border-color: transparent;\n",
              "      border-right-color: var(--fill-color);\n",
              "      border-top-color: var(--fill-color);\n",
              "    }\n",
              "    60% {\n",
              "      border-color: transparent;\n",
              "      border-right-color: var(--fill-color);\n",
              "    }\n",
              "    80% {\n",
              "      border-color: transparent;\n",
              "      border-right-color: var(--fill-color);\n",
              "      border-bottom-color: var(--fill-color);\n",
              "    }\n",
              "    90% {\n",
              "      border-color: transparent;\n",
              "      border-bottom-color: var(--fill-color);\n",
              "    }\n",
              "  }\n",
              "</style>\n",
              "\n",
              "  <script>\n",
              "    async function quickchart(key) {\n",
              "      const quickchartButtonEl =\n",
              "        document.querySelector('#' + key + ' button');\n",
              "      quickchartButtonEl.disabled = true;  // To prevent multiple clicks.\n",
              "      quickchartButtonEl.classList.add('colab-df-spinner');\n",
              "      try {\n",
              "        const charts = await google.colab.kernel.invokeFunction(\n",
              "            'suggestCharts', [key], {});\n",
              "      } catch (error) {\n",
              "        console.error('Error during call to suggestCharts:', error);\n",
              "      }\n",
              "      quickchartButtonEl.classList.remove('colab-df-spinner');\n",
              "      quickchartButtonEl.classList.add('colab-df-quickchart-complete');\n",
              "    }\n",
              "    (() => {\n",
              "      let quickchartButtonEl =\n",
              "        document.querySelector('#df-e1f2db9d-4a43-44b1-89e0-a79afecaf8ff button');\n",
              "      quickchartButtonEl.style.display =\n",
              "        google.colab.kernel.accessAllowed ? 'block' : 'none';\n",
              "    })();\n",
              "  </script>\n",
              "</div>\n",
              "    </div>\n",
              "  </div>\n"
            ]
          },
          "metadata": {},
          "execution_count": 63
        }
      ]
    },
    {
      "cell_type": "code",
      "source": [
        "sns.barplot(x = 'month', y = 'renew_rate_perc', data = renew_return_rates)\n",
        "plt.show()"
      ],
      "metadata": {
        "colab": {
          "base_uri": "https://localhost:8080/",
          "height": 449
        },
        "id": "TncqPUcXzyZo",
        "outputId": "4b1a0098-c1d8-40a8-dc98-2f90c4b70c78"
      },
      "execution_count": 65,
      "outputs": [
        {
          "output_type": "display_data",
          "data": {
            "text/plain": [
              "<Figure size 640x480 with 1 Axes>"
            ],
            "image/png": "[encoded data removed]"
          },
          "metadata": {}
        }
      ]
    },
    {
      "cell_type": "markdown",
      "source": [
        "Renew rates are not so different from each other throughout months."
      ],
      "metadata": {
        "id": "WymNv0YQ0Sfg"
      }
    },
    {
      "cell_type": "markdown",
      "source": [
        "# Practical Suggestions"
      ],
      "metadata": {
        "id": "zWiCKkNgzYup"
      }
    },
    {
      "cell_type": "markdown",
      "source": [
        "## More Customized Packages"
      ],
      "metadata": {
        "id": "eqg8ZD4Zzp3h"
      }
    },
    {
      "cell_type": "markdown",
      "source": [
        "It's likely that packages offered to customers in specific regions are not attractive enough and they decide not to continue. Features can be reconsidered, especially in those regions with low economic power, more economical packages should be designed."
      ],
      "metadata": {
        "id": "UaValAZA00fU"
      }
    },
    {
      "cell_type": "markdown",
      "source": [
        "## Changing Underperformed Packages"
      ],
      "metadata": {
        "id": "Y8WSwFdc34XK"
      }
    },
    {
      "cell_type": "markdown",
      "source": [
        "Some packages that have been detected before are not doing a decent job. Making a survey and sending to those who have used packages and decided not to continue let us know their problems."
      ],
      "metadata": {
        "id": "C0ka9nHn38er"
      }
    },
    {
      "cell_type": "markdown",
      "source": [
        "## Pay More Attention to Category"
      ],
      "metadata": {
        "id": "g5hj4Y0e1i7_"
      }
    },
    {
      "cell_type": "markdown",
      "source": [
        "Our company has some issues in some categories like Khodro, Lavazem shakhsi, and Mobile-tablet. One way to improve offerings at these categories is to conduct in-depth interviews or even just making a short contact to get more insights what are the critical factors for they managers."
      ],
      "metadata": {
        "id": "wCnPxbgq1k_O"
      }
    },
    {
      "cell_type": "markdown",
      "source": [
        "## Retention Programs"
      ],
      "metadata": {
        "id": "6_d8SzI22SDj"
      }
    },
    {
      "cell_type": "markdown",
      "source": [
        "The company should attempt to persuade its customers within 30 days. If it takes more than that, the probability of churning rises significantly. Sending emails to remind the manager what are the benefits of working with us and its costs could be beneficial. Also, give them some promotional benefits might turn them into loyal customers."
      ],
      "metadata": {
        "id": "42m9dNwh2ZYf"
      }
    }
  ]
}